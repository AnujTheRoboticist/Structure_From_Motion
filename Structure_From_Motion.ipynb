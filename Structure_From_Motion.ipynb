{
  "nbformat": 4,
  "nbformat_minor": 0,
  "metadata": {
    "colab": {
      "provenance": []
    },
    "kernelspec": {
      "name": "python3",
      "display_name": "Python 3"
    },
    "language_info": {
      "name": "python"
    }
  },
  "cells": [
    {
      "cell_type": "markdown",
      "source": [
        "Assignment 3: \n",
        "\n",
        "Name: Anuj Zore\n",
        "\n",
        "UID: 119198457\n",
        "\n",
        "Please submit to ELMS\n",
        "- a PDF containing all outputs (by executing **Run all**)\n",
        "- your ipynb notebook containing all the code\n",
        "\n",
        "I understand the policy on academic integraty (collaboration and the use of online material).\n",
        "Please sign your name here: "
      ],
      "metadata": {
        "id": "flVP-gDsfegx"
      }
    },
    {
      "cell_type": "code",
      "source": [
        "## Import necessary libraries here (You can add libraries you want to use here)\n",
        "import os\n",
        "import random\n",
        "import cv2\n",
        "import numpy as np\n",
        "from scipy.io import loadmat\n",
        "import matplotlib.pyplot as plt\n",
        "from matplotlib import cm\n",
        "from functools import reduce\n",
        "from scipy.ndimage import gaussian_filter as gf\n",
        "from google.colab.patches import cv2_imshow\n",
        "\n",
        "%matplotlib inline"
      ],
      "metadata": {
        "id": "Cee3vAcLrOs0"
      },
      "execution_count": null,
      "outputs": []
    },
    {
      "cell_type": "markdown",
      "source": [
        "# Part 1: Epipolar Geometry (30 Points)\n"
      ],
      "metadata": {
        "id": "f3j4FysdrPpj"
      }
    },
    {
      "cell_type": "markdown",
      "source": [
        "## Overview\n",
        "\n",
        "In this problem, you will implement an algorithm for automatically estimating homography with RANSAC. In the file matches.mat, we provide the detected Harris corners row-column positions in variables r1 c1 for the first image; variables r2 c2 for the second image; and the corresponding matched pairs in the variable matches.\n",
        "\n",
        "<!-- <img src=\"https://drive.google.com/uc?id=1Tr723u5OXmwkd4RDmu9z886ITJU9j1cL&export=download\" width=\"800\"/> -->\n",
        "\n",
        "<img src=\"https://drive.google.com/uc?id=17mwO8QH24vw1Kv1aBONgFXKi53HqUMEd&export=download\" width=\"800\"/>\n",
        "\n",
        "\n",
        "The outline of the normalized 8-point algorithm:\n",
        "\n",
        "<img src=\"https://drive.google.com/uc?id=1nVnvBpKeLmiowT9Q4_QauogXpcdXBmHm&export=download\" width=\"700\"/>\n",
        "\n"
      ],
      "metadata": {
        "id": "-PQh0Alx6ibx"
      }
    },
    {
      "cell_type": "markdown",
      "source": [
        "## Data\n",
        "\n",
        "**WARNING: Colab deletes all files everytime runtime is disconnected. Make sure to re-download the inputs when it happens.**"
      ],
      "metadata": {
        "id": "WhMdiMNjB9R7"
      }
    },
    {
      "cell_type": "code",
      "source": [
        "# Download Data -- run this cell only one time per runtime\n",
        "!gdown 1cn3_SscjlLrf4BzUWe8MV-XqMqBY4Nj_\n",
        "!unzip \"/content/Part1_data.zip\" -d \"/content/\"\n",
        "# Load Matches\n",
        "data = loadmat('/content/Part1_data/matches.mat')\n",
        "r1 = data['r1']\n",
        "r2 = data['r2']\n",
        "c1 = data['c1']\n",
        "c2 = data['c2']\n",
        "matches = data['matches']"
      ],
      "metadata": {
        "colab": {
          "base_uri": "https://localhost:8080/"
        },
        "id": "3LNhf2S4CAIk",
        "outputId": "822232de-d139-4bc3-c520-1dfdc216983d"
      },
      "execution_count": null,
      "outputs": [
        {
          "output_type": "stream",
          "name": "stdout",
          "text": [
            "Downloading...\n",
            "From: https://drive.google.com/uc?id=1cn3_SscjlLrf4BzUWe8MV-XqMqBY4Nj_\n",
            "To: /content/Part1_data.zip\n",
            "\r  0% 0.00/157k [00:00<?, ?B/s]\r100% 157k/157k [00:00<00:00, 75.2MB/s]\n",
            "Archive:  /content/Part1_data.zip\n",
            "   creating: /content/Part1_data/\n",
            "  inflating: /content/Part1_data/chapel00.png  \n",
            "  inflating: /content/Part1_data/chapel01.png  \n",
            "  inflating: /content/Part1_data/matches.mat  \n"
          ]
        }
      ]
    },
    {
      "cell_type": "code",
      "source": [
        "# Load Keypoints\n",
        "x1 = c1[matches[:,0]-1]\n",
        "y1 = r1[matches[:,0]-1]\n",
        "x2 = c2[matches[:,1]-1]\n",
        "y2 = r2[matches[:,1]-1]\n",
        "\n",
        "X1 = np.zeros((252,2))\n",
        "X2 = np.zeros((252,2))\n",
        "for i in range(0,len(x1)):\n",
        "  X1[i][0] = x1[i][0]\n",
        "  X1[i][1] = y1[i][0]\n",
        "  X2[i][0] = x2[i][0]\n",
        "  X2[i][1] = y2[i][0] \n",
        "\n",
        "img1 = cv2.imread(\"/content/Part1_data/chapel00.png\")\n",
        "img2 = cv2.imread(\"/content/Part1_data/chapel01.png\")"
      ],
      "metadata": {
        "id": "7JTA_rZ4y_V8"
      },
      "execution_count": null,
      "outputs": []
    },
    {
      "cell_type": "markdown",
      "source": [
        "## Helper Functions"
      ],
      "metadata": {
        "id": "QyGOs95Bslvr"
      }
    },
    {
      "cell_type": "code",
      "source": [
        "# Funtion for computing fundamental matrix ---------------------------------------------------//\n",
        "\n",
        "def approximate_Fundamental_Matrix(X1, X2):\n",
        "\n",
        "  X1 = np.array(X1)\n",
        "  X2 = np.array(X2)\n",
        "  \n",
        "  # Calculating mean for X1 and X2 -----------------------------------------------------------// \n",
        "  mn1 = np.sum(X1, axis=0) / X1.shape[0]\n",
        "  mn2 = np.sum(X2, axis=0) / X2.shape[0]\n",
        "  mn1 = np.reshape(mn1, (1, mn1.shape[0]))\n",
        "  mn2 = np.reshape(mn2, (1, mn2.shape[0]))\n",
        "\n",
        "  # Applying Translation ----------------------------------------------------------------------//\n",
        "  translated_X1 = X1 - mn1\n",
        "  translated_X2 = X2 - mn2    \n",
        "  added_sqs1 = np.sum(translated_X1 ** 2, axis=1)\n",
        "  added_sqs1 = np.reshape(added_sqs1, (translated_X1.shape[0], 1))\n",
        "  mn_dist1 = np.sum(added_sqs1 ** (1 / 2), axis=0) / translated_X1.shape[0]\n",
        "  factor1 = 2 ** (1 / 2) / mn_dist1[0]\n",
        "  added_sqs2 = np.sum(translated_X2 ** 2, axis=1)\n",
        "  added_sqs2 = np.reshape(added_sqs2, (translated_X2.shape[0], 1))\n",
        "  mn_dist2 = np.sum(added_sqs2 ** (1 / 2), axis=0) / translated_X2.shape[0]\n",
        "  factor2 = 2 ** (1 / 2) / mn_dist2[0]\n",
        "\n",
        "  # Normalizing the translated X1 and X2 ------------------------------------------------------//\n",
        "  nmlz1 = factor1 * translated_X1\n",
        "  nmlz2 = factor2 * translated_X2\n",
        "  translated_matrix1 = np.array([[1, 0, -mn1[0][0]], [0, 1, -mn1[0][1]], [0, 0, 1]])\n",
        "  sc_matrix1 = np.array([[factor1, 0, 0], [0, factor1, 0], [0, 0, 1]])\n",
        "  translated_matrix2 = np.array([[1, 0, -mn2[0][0]], [0, 1, -mn2[0][1]], [0, 0, 1]])\n",
        "  sc_matrix2 = np.array([[factor2, 0, 0], [0, factor2, 0], [0, 0, 1]])\n",
        "  \n",
        "  # Normalized --------------------------------------------------------------------------------//\n",
        "  T1 = np.dot(sc_matrix1, translated_matrix1)\n",
        "  T2 = np.dot(sc_matrix2, translated_matrix2)\n",
        "\n",
        "\n",
        "  A = np.zeros((X1.shape[0], 9))\n",
        "  for i in range(X1.shape[0]):\n",
        "    A[i, :] = [nmlz2[i][0] * nmlz1[i][0], nmlz2[i][0] * nmlz1[i][1], nmlz2[i][0], nmlz2[i][1] * nmlz1[i][0], nmlz2[i][1] * nmlz1[i][1], nmlz2[i][1], nmlz1[i][0], nmlz1[i][1], 1]\n",
        "\n",
        "  # Applying Singular Value Decomposition -----------------------------------------------------//\n",
        "  U, S, Vt = np.linalg.svd(A)\n",
        "\n",
        "  V = Vt.T\n",
        "  V = V[:, -1]\n",
        "  F = np.zeros((3, 3))\n",
        "  count = 0\n",
        "  for i in range(3):\n",
        "    for j in range(3):\n",
        "      F[i, j] = V[count]\n",
        "      count += 1\n",
        "\n",
        "  u, s, vt = np.linalg.svd(F)\n",
        "\n",
        "  # Enforce det(f) = 0 -----------------------------------------------------------------------//\n",
        "  s[-1] = 0\n",
        "  newS = np.zeros((3, 3))\n",
        "  for i in range(3):\n",
        "    newS[i, i] = s[i]\n",
        "\n",
        "  newF = np.dot((np.dot(u, newS)), vt)\n",
        "\n",
        "  regF = np.dot(np.dot(T2.T, newF), T1)\n",
        "  regF = regF / regF[-1, -1]\n",
        "\n",
        "  return regF\n",
        "\n",
        "# Function for calculating fundamental matrix with 8-point Algorithm -------------------------//\n",
        "def RANSAC(feature1, feature2):\n",
        "  # Defining threshold and iteration ---------------------------------------------------------//\n",
        "  thresh = 0.05\n",
        "  prsntInliers = 0\n",
        "  perfF = []\n",
        "  p = 0.99\n",
        "  N = 2000\n",
        "  count = 0\n",
        "  while count < N:\n",
        "    inlier_count = 0\n",
        "    random_feature1 = []\n",
        "    random_feature2 = []\n",
        "    RandList = np.random.randint(len(feature1), size=8)\n",
        "    for k in RandList:\n",
        "      random_feature1.append(feature1[k])\n",
        "      random_feature2.append(feature2[k])\n",
        "\n",
        "    # Calculating fundamental matrix for current random sample points -------------------------//\n",
        "    F = approximate_Fundamental_Matrix(random_feature1, random_feature2)\n",
        "    One = np.ones((len(feature1), 1))\n",
        "    X_1 = np.hstack((feature1, One))\n",
        "    X_2 = np.hstack((feature2, One))\n",
        "    E_1, E_2 = X_1 @ F.T, X_2 @ F\n",
        "\n",
        "    # Calculating the error -------------------------------------------------------------------//\n",
        "    err = np.sum(E_2 * X_1, axis=1, keepdims=True) ** 2 / np.sum(np.hstack((E_1[:, :-1], E_2[:, :-1])) ** 2, axis=1,\n",
        "                                                                  keepdims=True)\n",
        "    Inl = err <= thresh\n",
        "    InlCnt = np.sum(Inl)\n",
        "\n",
        "    # Comparing with threshold ----------------------------------------------------------------//\n",
        "    if prsntInliers < InlCnt:\n",
        "      prsntInliers = InlCnt\n",
        "      coor = np.where(Inl == True)\n",
        "      x1_ar = np.array(feature1)\n",
        "      x2_ar = np.array(feature2)\n",
        "      inlier_x1 = x1_ar[coor[0][:]]\n",
        "      inlier_x2 = x2_ar[coor[0][:]]\n",
        "      perfF = F\n",
        "\n",
        "    RatioInl = InlCnt / len(feature1)\n",
        "    if np.log(1 - (RatioInl ** 8)) == 0: continue\n",
        "    N = np.log(1 - p) / np.log(1 - (RatioInl ** 8))\n",
        "    count += 1\n",
        "  return perfF, inlier_x1, inlier_x2\n",
        "\n",
        "# Function generating random points for RANSAC feed ------------------------------------------//\n",
        "def randomPts(pt1_list, pt2_list, val):\n",
        "  index = []\n",
        "  for i in range(val):\n",
        "    num = random.randint(0,len(pt1_list)-1)\n",
        "    index.append(num)\n",
        "  new_pts1 = []\n",
        "  new_pts2 = []\n",
        "  for i in range(len(index)):\n",
        "    val = index[i]\n",
        "    new_pts1.append(pt1_list[val])\n",
        "    new_pts2.append(pt2_list[val])\n",
        "  \n",
        "  new_pts1 = np.asarray(new_pts1)\n",
        "  new_pts2 = np.asarray(new_pts2)\n",
        "  return new_pts1, new_pts2\n",
        "\n",
        "  \n",
        "# Function for displaying epilines ---------------------------------------------------------------//\n",
        "def drawlines(img1,lines, pts):\n",
        "  i1 = img1.copy()\n",
        "  r,c,_ = img1.shape\n",
        "  for r, pt1 in zip(lines, pts):\n",
        "    color1=(0,255,0)\n",
        "    color2 = (0,0,255)\n",
        "    x0,y0 = map(int, [0, -r[2]/r[1]])\n",
        "    x1,y1 = map(int, [c, -(r[2]+r[0]*c)/r[1] ])\n",
        "    i1 = cv2.line(i1, (x0,y0), (x1,y1), color1 ,1)\n",
        "    i1 = cv2.circle(i1, tuple(pt1), 2, color2, -1)\n",
        "  return i1"
      ],
      "metadata": {
        "id": "UkmZo6KWslNG"
      },
      "execution_count": null,
      "outputs": []
    },
    {
      "cell_type": "code",
      "source": [
        "# Result ----------------------------------------------------------------------------------------//\n",
        "\n",
        "X1 = []\n",
        "X2 = []\n",
        "\n",
        "for i in range(len(x1)):\n",
        "  temp = [x1[i][0], y1[i][0]]\n",
        "  X1.append(temp)\n",
        "\n",
        "for i in range(len(x2)):\n",
        "  temp2 = [x2[i][0], y2[i][0]]\n",
        "  X2.append(temp2)\n",
        "\n",
        "F, pt1, pt2 = RANSAC(X1, X2)\n",
        "print(\"Fundamenal Matrix: \\n\", F)\n",
        "\n",
        "points1, points2 = randomPts(pt1, pt2, 7)\n",
        "\n",
        "ones = np.ones((points1.shape[0], 1))\n",
        "final_X1 = np.append(points1, ones, axis=1)\n",
        "final_X2 = np.append(points2, ones, axis=1)\n",
        "\n",
        "lines1 = np.dot(F, final_X1.T)\n",
        "lines2 = np.dot(final_X2, F)\n",
        "\n",
        "i1 = drawlines(img2, lines1.T, points2)\n",
        "i2 = drawlines(img1, lines2, points1)\n",
        "\n",
        "final_image = np.hstack((i1, i2))\n",
        "cv2_imshow(final_image)"
      ],
      "metadata": {
        "id": "lS5zihq7NRjh"
      },
      "execution_count": null,
      "outputs": []
    },
    {
      "cell_type": "code",
      "source": [
        "normalized_F = F / np.sqrt(np.sum(F**2))\n",
        "print(normalized_F)"
      ],
      "metadata": {
        "id": "Nbjl2UCAPy5I"
      },
      "execution_count": null,
      "outputs": []
    },
    {
      "cell_type": "markdown",
      "source": [
        "### Write-up (15 pt)\n",
        "*   Describe what test you used for deciding inlier vs. outlier.\n",
        "*   Display the estimated fundamental matrix F after normalizing to unit length\n",
        "*   Randomly select 7 sets of matching points. Plot the corresponding epipolar lines and the points on each image. Show the two images (with plotted points and lines) next to each other.\n",
        "\n",
        "<!-- *   Plot the outlier keypoints with green dots on top of the first image -->\n",
        "<!-- *   Randomly select 7 sets of matching points. Plot the corresponding epipolar lines ('g’) and the points (with 'r+’) on each image. Show the two images (with plotted points and lines) next to each other. -->\n",
        "\n"
      ],
      "metadata": {
        "id": "s_UmLOsGc-nZ"
      }
    },
    {
      "cell_type": "markdown",
      "source": [
        "**1] Describe what test you used for deciding inlier vs. outlier.**\n"
      ],
      "metadata": {
        "id": "Jr9uNrsa5BoU"
      }
    },
    {
      "cell_type": "markdown",
      "source": [
        "Answer: The number of inliner correspondences are counted for randomly sampled fundamental matrix. Appropriate threshold is used to compare the distance of intrest points i.e. xFx'. Fundamental matrix with the most inliners will be returened as the chosen F. \n",
        "\n",
        "Below are the parameters considered for this section:\n",
        "1.   Threshold: 0.05\n",
        "2.   Iterations: 2000\n",
        "3.   Total inliners for Best_F: 252\n",
        "\n",
        "\n",
        "\n"
      ],
      "metadata": {
        "id": "83bb7UuA64gU"
      }
    },
    {
      "cell_type": "markdown",
      "source": [
        "**2]  Display the estimated fundamental matrix F after normalizing to unit length**"
      ],
      "metadata": {
        "id": "gq7Uuvcv8E8b"
      }
    },
    {
      "cell_type": "markdown",
      "source": [
        "Estimated Fundamental Matrix: "
      ],
      "metadata": {
        "id": "ouYQtAUV8MvS"
      }
    },
    {
      "cell_type": "code",
      "source": [
        "print(F)"
      ],
      "metadata": {
        "id": "AczWOke9dz30"
      },
      "execution_count": null,
      "outputs": []
    },
    {
      "cell_type": "markdown",
      "source": [
        "Normalised Fundamental Matrix after normalising to unit length:"
      ],
      "metadata": {
        "id": "L8XCrCR78cyd"
      }
    },
    {
      "cell_type": "code",
      "source": [
        "# Normalising Fundamental matrix to unit length --------------------------------------------//\n",
        "normalized_F = F / np.sqrt(np.sum(F**2))\n",
        "print(normalized_F)"
      ],
      "metadata": {
        "id": "vh-0_MNb8hKu"
      },
      "execution_count": null,
      "outputs": []
    },
    {
      "cell_type": "markdown",
      "source": [
        "**3] Randomly select 7 sets of matching points. Plot the corresponding epipolar lines and the points on each image. Show the two images (with plotted points and lines) next to each other.**"
      ],
      "metadata": {
        "id": "AtTh8QIF82yf"
      }
    },
    {
      "cell_type": "code",
      "source": [
        "# Selecting random 7 sets of matching points ------------------------------------------------//\n",
        "points1, points2 = randomPts(pt1, pt2, 7)\n",
        "\n",
        "ones = np.ones((points1.shape[0], 1))\n",
        "final_X1 = np.append(points1, ones, axis=1)\n",
        "final_X2 = np.append(points2, ones, axis=1)\n",
        "\n",
        "# Calculating the lines -----------------------------------------------------------------------//\n",
        "lines1 = np.dot(F, final_X1.T)\n",
        "lines2 = np.dot(final_X2, F)\n",
        "\n",
        "# Drawing lines -------------------------------------------------------------------------------//\n",
        "i1 = drawlines(img2, lines1.T, points2)\n",
        "i2 = drawlines(img1, lines2, points1)\n",
        "\n",
        "# Displaying Image ----------------------------------------------------------------------------//\n",
        "final_image = np.hstack((i1, i2))\n",
        "cv2_imshow(final_image)"
      ],
      "metadata": {
        "id": "Fy1QBdFsdwDi"
      },
      "execution_count": null,
      "outputs": []
    },
    {
      "cell_type": "markdown",
      "source": [
        "### Hint\n",
        "\n",
        "*   You can use cv2.cornerHarris in opencv.\n",
        "*   For visualization, you can use cv2.line, cv2.circle or any other helper functions in opencv or matplotlib.\n"
      ],
      "metadata": {
        "id": "5JB8fYJCBI6B"
      }
    },
    {
      "cell_type": "markdown",
      "source": [
        "# Part 2: Image stitching (30 points)"
      ],
      "metadata": {
        "id": "QE_F4Hf5jUif"
      }
    },
    {
      "cell_type": "markdown",
      "source": [
        "<img src=\"https://drive.google.com/uc?id=1uOI8rpqb_FsR9Fi8GrGPZvICOcgflBj9&export=download\" width=\"800\"/>\n",
        "\n",
        "## Overview\n",
        "\n",
        "In this problem, you will implement an algorithm for automatically estimating the fundamental matrix F using RANSAC and the normalized 8-point algorithm. \n",
        "\n",
        "Image Stitching Algorithm Overview\n",
        "1. Detect keypoints\n",
        "2. Match keypoints\n",
        "3. Estimate homography with matched keypoints (using RANSAC)\n",
        "4. Combine images\n",
        "\n",
        "**Note:**  Do not use existing image stitching code, such as found on the web, and OpenCV."
      ],
      "metadata": {
        "id": "qSpCKlC_jcde"
      }
    },
    {
      "cell_type": "markdown",
      "source": [
        "## Data\n",
        "\n",
        "**WARNING: Colab deletes all files everytime runtime is disconnected. Make sure to re-download the inputs when it happens.**"
      ],
      "metadata": {
        "id": "_EOoxrZurmYz"
      }
    },
    {
      "cell_type": "code",
      "source": [
        "# Download Data -- run this cell only one time per runtime\n",
        "!gdown 1fnD0hJ8-_Rngsc-m96ghKtdZAMf0VTjy\n",
        "!unzip \"/content/hill.zip\" -d \"/content/hill\"\n",
        "\n",
        "!gdown 1v2BFVMV0McuD5BstLvDmo1U9MrFAByS5\n",
        "!unzip \"/content/tv.zip\" -d \"/content/tv\"\n"
      ],
      "metadata": {
        "id": "Tspp6CyMroUC"
      },
      "execution_count": null,
      "outputs": []
    },
    {
      "cell_type": "markdown",
      "source": [
        "## Helper Functions"
      ],
      "metadata": {
        "id": "YlVZP1tvMAxH"
      }
    },
    {
      "cell_type": "code",
      "source": [
        "import cv2\n",
        "\n",
        "def drawMatches(image1, kp1, image2, kp2, idx_pairs):\n",
        "    keypt1 = [cv2.KeyPoint(coord[1], coord[0], 40) for coord in kp1.tolist()]\n",
        "    keypt2 = [cv2.KeyPoint(coord[1], coord[0], 40) for coord in kp2.tolist()]\n",
        "    matches = [cv2.DMatch(pair[0], pair[1], 0) for pair in idx_pairs.tolist()]\n",
        "    return cv2.drawMatches(image1, keypt1, image2, keypt2, matches, None, flags=cv2.DrawMatchesFlags_NOT_DRAW_SINGLE_POINTS)\n",
        "\n",
        "def plot_matches(img1 , kp_1 , img2 , kp_2 , matches):\n",
        "    good_draw = []\n",
        "    for m,n in matches:\n",
        "        if m.distance < 0.75*n.distance:\n",
        "            good_draw.append([m])\n",
        "    # cv.drawMatchesKnn expects list of lists as matches.\n",
        "    img3 = cv2.drawMatchesKnn(img1, kp_1 , img2 , kp_2 , good_draw,None,flags=cv2.DrawMatchesFlags_NOT_DRAW_SINGLE_POINTS)\n",
        "\n",
        "def est_homography(src, dest):\n",
        "    N = src.shape[0]\n",
        "    if N != dest.shape[0]:\n",
        "        raise ValueError(\"src and diff should have the same dimension\")\n",
        "    src_h = np.hstack((src, np.ones((N, 1))))\n",
        "    A = np.array([np.block([[src_h[n], np.zeros(3), -dest[n, 0] * src_h[n]],\n",
        "                            [np.zeros(3), src_h[n], -dest[n, 1] * src_h[n]]])\n",
        "                  for n in range(N)]).reshape(2 * N, 9)\n",
        "    [_, _, V] = np.linalg.svd(A)\n",
        "    h = V[-1,:]/V[-1,-1]\n",
        "    h = np.array(h)\n",
        "    return np.reshape(h ,(3 ,3 ))\n",
        "\n",
        "def apply_homography(H, src):\n",
        "    src_h = np.hstack((src, np.ones((src.shape[0], 1))))\n",
        "    dest =  src_h @ H.T\n",
        "    return (dest / dest[:,[2]])[:,0:2]"
      ],
      "metadata": {
        "id": "y9gRD27_MCDo"
      },
      "execution_count": null,
      "outputs": []
    },
    {
      "cell_type": "markdown",
      "source": [
        "### Code (15 pt)"
      ],
      "metadata": {
        "id": "YBhvHlseN_6F"
      }
    },
    {
      "cell_type": "code",
      "source": [
        "# Function implementing RANSAC for removing incorrect matches --------------------------------------//\n",
        "def ransac_H(src , dst , good_matches):\n",
        "    threshold = 1\n",
        "    iterations = 50\n",
        "    best_count = 0 \n",
        "    H_final = np.zeros((3,3))\n",
        "    best_dist = np.inf\n",
        "\n",
        "    normalize_src_x , normalize_src_y , T_src_normalize = normalize_kp(src , good_matches)\n",
        "    normalize_src = np.hstack((normalize_src_x.reshape(-1 ,1) , normalize_src_y.reshape(-1 ,1)))\n",
        "\n",
        "    normalize_dst_x , normalize_dst_y , T_dst_normalize = normalize_kp(dst , good_matches)\n",
        "    normalize_dst = np.hstack((normalize_dst_x.reshape(-1 ,1) , normalize_dst_y.reshape(-1 ,1)))\n",
        "\n",
        "    for i in range(iterations): \n",
        "        rand_4 = np.random.randint( 0 , good_matches , size = 4)\n",
        "        src_4 = np.vstack((  normalize_src[rand_4[0] ,:] , normalize_src[rand_4[1] ,:] , normalize_src[rand_4[2] ,:] , normalize_src[rand_4[3] ,:] ))\n",
        "        dst_4 = np.vstack((  normalize_dst[rand_4[0] ,:] , normalize_dst[rand_4[1] ,:] , normalize_dst[rand_4[2] ,:] , normalize_dst[rand_4[3] ,:] ))\n",
        "    \n",
        "        H = est_homography( src_4 , dst_4 )\n",
        "        dst_after_homography = apply_homography(H , normalize_src)\n",
        "\n",
        "        # Computing L2 norm ------------------------------------------------------------------------//\n",
        "        dist = np.linalg.norm(dst_after_homography - normalize_dst , axis =1)\n",
        "        dis_sum = np.sum(dist)\n",
        "\n",
        "        inlier_find = np.where( dist<threshold , 1 , 0)\n",
        "        count = np.sum(inlier_find)\n",
        "\n",
        "        # Updating inliners ------------------------------------------------------------------------//\n",
        "        if count>best_count or (count==best_count and dis_sum<best_dist):\n",
        "            best_count = count\n",
        "            best_dist = dis_sum\n",
        "            H_final = H\n",
        "\n",
        "    # Denormalizing H matrix\n",
        "    H_recapture = np.linalg.inv(T_dst_normalize) @ H_final @ T_src_normalize\n",
        "\n",
        "    return H_recapture \n",
        "\n",
        "# Generating Match Pairs ------------------------------------------------------------------//\n",
        "def good_matches(i1 , i2 , dst_right_img):   \n",
        "    img1_copy = i1.copy()\n",
        "    img2_copy = i2.copy()\n",
        "        \n",
        "    sift = cv2.SIFT_create()\n",
        "\n",
        "    kp_1, des_1 = sift.detectAndCompute(img1_copy,None)\n",
        "    kp_2, des_2 = sift.detectAndCompute(img2_copy,None)\n",
        "\n",
        "    bf = cv2.BFMatcher()\n",
        "    \n",
        "    if dst_right_img:\n",
        "        matches = bf.knnMatch(des_1 ,des_2, k=2)\n",
        "\n",
        "        # Implementing ratio test ----------------------------------------------------------//\n",
        "        good = []\n",
        "        for m,n in matches:\n",
        "            if m.distance < 0.4*n.distance:\n",
        "                good.append(m)\n",
        "   \n",
        "        if len(good)>10:\n",
        "            src_pts = np.float32([ kp_1[m.queryIdx].pt for m in good ]).reshape(-1,1,2)\n",
        "            dst_pts = np.float32([ kp_2[m.trainIdx].pt for m in good ]).reshape(-1,1,2)  \n",
        "\n",
        "    else :\n",
        "        matches = bf.knnMatch(des_2 ,des_1, k=2)\n",
        "\n",
        "        # Lowe's ratio test ----------------------------------------------------------------//\n",
        "        good = []\n",
        "        for m,n in matches:\n",
        "            if m.distance < 0.4*n.distance:\n",
        "                good.append(m)\n",
        " \n",
        "        if len(good)>10:\n",
        "            src_pts = np.float32([ kp_2[m.queryIdx].pt for m in good ]).reshape(-1,1,2)\n",
        "            dst_pts = np.float32([ kp_1[m.trainIdx].pt for m in good ]).reshape(-1,1,2) \n",
        "\n",
        "    plot_matches(img1_copy , kp_1 , img2_copy , kp_2 , matches)\n",
        "    return src_pts , dst_pts , len(good)\n",
        "\n",
        "\n",
        "# Function for normalising keypoints -------------------------------------------------------//\n",
        "def normalize_kp(pts, good_matches):\n",
        "    x_mean = np.mean(pts[: , 0 , 0])\n",
        "    y_mean = np.mean(pts[: , 0 , 1])\n",
        "\n",
        "    orig_xy = np.hstack((  pts[: , 0 , 0].reshape(-1 ,1) , pts[: , 0 , 1].reshape(-1 ,1)))\n",
        "    std_check = np.std(orig_xy)\n",
        "\n",
        "    #Tranformation matrix -----------------------------------------------------------------//\n",
        "    Transformation_matrix = np.array([ [(np.sqrt(2)/std_check) , 0 , -(x_mean*np.sqrt(2)/std_check)] ,\n",
        "                        [ 0 , (np.sqrt(2)/std_check) , -(y_mean*np.sqrt(2)/std_check)] ,\n",
        "                        [ 0 , 0 , 1]    ] )\n",
        "\n",
        "    # Reshaping --------------------------------------------------------------------------//\n",
        "    points = np.vstack((  pts[: , 0 , 0].reshape(1,-1), pts[: , 0 , 1].reshape(1,-1) ,  np.ones((1 , good_matches))))\n",
        "\n",
        "    pts_norm = np.matmul(Transformation_matrix, points)\n",
        "\n",
        "    # Normalized -------------------------------------------------------------------------//\n",
        "    pts_norm_x = pts_norm[0 , :]\n",
        "    pts_norm_y = pts_norm[1 , :] \n",
        "\n",
        "    return pts_norm_x , pts_norm_y , Transformation_matrix\n",
        "\n",
        "# Function for stiching the given Images -------------------------------------------------//\n",
        "def stitch_images(img1 , img2 , img3):  \n",
        "    img1 = cv2.cvtColor(img1, cv2.COLOR_BGR2RGB)\n",
        "    img2 = cv2.cvtColor(img2, cv2.COLOR_BGR2RGB)\n",
        "    img3 = cv2.cvtColor(img3, cv2.COLOR_BGR2RGB)\n",
        "\n",
        "    img1_gray = cv2.cvtColor(img1, cv2.COLOR_BGR2GRAY) \n",
        "    img2_gray = cv2.cvtColor(img2, cv2.COLOR_BGR2GRAY)\n",
        "    img3_gray = cv2.cvtColor(img3, cv2.COLOR_BGR2GRAY)\n",
        "\n",
        "    # Zero padding ------------------------------------------------------------------------//\n",
        "    middle_img = np.zeros((img1_gray.shape[0] , img1_gray.shape[1]+img2_gray.shape[1]) , dtype = np.uint8)\n",
        "    middle_img[: , img1_gray.shape[1]:] = img2_gray\n",
        "    src , dst , match_count = good_matches(img1_gray , middle_img , True)\n",
        "    H_1 = ransac_H(src , dst , match_count)\n",
        "\n",
        "    print(f\"Best H for img 1 and img 2\\n{H_1}\")\n",
        "\n",
        "    # Image warping -----------------------------------------------------------------------//\n",
        "    dst = cv2.warpPerspective(img1 ,H_1,(img1.shape[1] + img2.shape[1], img2.shape[0]))\n",
        "    dst[:, img2.shape[1]:] = img2\n",
        "    src_2 , dst_2 , match_count_2 = good_matches(dst, img3_gray, False)\n",
        "    H_2 = ransac_H(src_2 , dst_2 , match_count_2)\n",
        "\n",
        "    print(f\"Best H for img 2 and img 3\\n{H_2}\")\n",
        "\n",
        "    # Final warping ------------------------------------------------------------------------//\n",
        "    merged = cv2.warpPerspective(img3 , H_2,(dst.shape[1] + img3_gray.shape[1], img3_gray.shape[0]))\n",
        "    merged[:, :dst.shape[1]] = dst\n",
        "\n",
        "    # Displaying Result --------------------------------------------------------------------//\n",
        "    plt.figure()\n",
        "    plt.figure(figsize = (15, 15))\n",
        "    plt.imshow(merged ,cmap = 'gray')\n",
        "\n",
        "    return H_1, H_2"
      ],
      "metadata": {
        "id": "OBO9BLc_-EWG"
      },
      "execution_count": null,
      "outputs": []
    },
    {
      "cell_type": "code",
      "source": [
        "# Main Code --------------------------------------------------------------------------------//\n",
        "\n",
        "# Feeding given images ----------------------------//\n",
        "first_image = cv2.imread('/content/hill/1.JPG' )  \n",
        "second_image = cv2.imread('/content/hill/2.JPG' )\n",
        "third_image = cv2.imread('/content/hill/3.JPG' )\n",
        "\n",
        "# Stiching given images ---------------------------//\n",
        "H_1, H_2 = stitch_images(first_image , second_image, third_image)"
      ],
      "metadata": {
        "id": "00l1cwqsEMQz"
      },
      "execution_count": null,
      "outputs": []
    },
    {
      "cell_type": "markdown",
      "source": [
        "### Write-up (15 pt)\n",
        "*  Describe how to remove incorrect matches with RANSAC \n",
        "*  Display the best homography H after RANSAC \n",
        "*  Display the blended images"
      ],
      "metadata": {
        "id": "gCSoLSQON2yj"
      }
    },
    {
      "cell_type": "markdown",
      "source": [
        "**1] Describe how to remove incorrect matches with RANSAC**\n"
      ],
      "metadata": {
        "id": "KsVbaaKFG-vd"
      }
    },
    {
      "cell_type": "markdown",
      "source": [
        "\n",
        "\n",
        "1.   Checking the key points distance with threshold and calculating the number of inliners.\n",
        "\n",
        "\n",
        "```\n",
        " for i in range(iterations): \n",
        "        rand_4 = np.random.randint( 0 , good_matches , size = 4)\n",
        "        src_4 = np.vstack((  normalize_src[rand_4[0] ,:] , normalize_src[rand_4[1] ,:] , normalize_src[rand_4[2] ,:] , normalize_src[rand_4[3] ,:] ))\n",
        "        dst_4 = np.vstack((  normalize_dst[rand_4[0] ,:] , normalize_dst[rand_4[1] ,:] , normalize_dst[rand_4[2] ,:] , normalize_dst[rand_4[3] ,:] ))\n",
        "    \n",
        "        H = est_homography( src_4 , dst_4 )\n",
        "        dst_after_homography = apply_homography(H , normalize_src)\n",
        "\n",
        "        # Computing L2 norm ------------------------------------------------------------------------//\n",
        "        dist = np.linalg.norm(dst_after_homography - normalize_dst , axis =1)\n",
        "        dis_sum = np.sum(dist)\n",
        "\n",
        "        inlier_find = np.where( dist<threshold , 1 , 0)\n",
        "        count = np.sum(inlier_find)\n",
        "\n",
        "```\n",
        "\n",
        "\n",
        "2.    Homograpghy matrix with maximum number of inliners are saved in H_final (Best Homography Matrix) along with inliner counts.\n",
        "\n",
        "\n",
        "\n",
        "```\n",
        "# Updating inliners ------------------------------------------------------------------------//\n",
        "        if count>best_count or (count==best_count and dis_sum<best_dist):\n",
        "            best_count = count\n",
        "            best_dist = dis_sum\n",
        "            H_final = H\n",
        "```\n",
        "\n",
        "\n",
        "\n",
        "3.    Choosen inliner is employed in further process.\n"
      ],
      "metadata": {
        "id": "mJVYqQLIHFID"
      }
    },
    {
      "cell_type": "markdown",
      "source": [
        "**2] Display the best homography H after RANSAC**"
      ],
      "metadata": {
        "id": "29qYh6YMJdcg"
      }
    },
    {
      "cell_type": "code",
      "source": [
        "# Displaying Best Homography for Image 1 and Image 2 ---------------------------------------//\n",
        "print(f\"Best H for img 1 and img 2\\n{H_1}\")"
      ],
      "metadata": {
        "id": "j0oqAD_cKZQs"
      },
      "execution_count": null,
      "outputs": []
    },
    {
      "cell_type": "code",
      "source": [
        "# Displaying Best Homography for Image 2 and Image 3 --------------------------------------//\n",
        "print(f\"Best H for img 2 and img 3\\n{H_2}\")"
      ],
      "metadata": {
        "id": "Leju6m0gKHb4"
      },
      "execution_count": null,
      "outputs": []
    },
    {
      "cell_type": "markdown",
      "source": [
        "**3] Blended image**"
      ],
      "metadata": {
        "id": "w0BBB5EORN8C"
      }
    },
    {
      "cell_type": "code",
      "source": [
        "H_1, H_2 = stitch_images(first_image , second_image, third_image)"
      ],
      "metadata": {
        "id": "gs6C6QlORRQg"
      },
      "execution_count": null,
      "outputs": []
    },
    {
      "cell_type": "markdown",
      "source": [
        "### Hint\n",
        "\n",
        "\n",
        "*   Use Harris Corner Detection to find keypoint. You can use cv2.cornerHarris in opencv.\n",
        "*   For image warping and blending, you should first deterimne canvas size. You can use cv2.warpPerspective in opencv. \n"
      ],
      "metadata": {
        "id": "EGGINt3MCKK6"
      }
    },
    {
      "cell_type": "markdown",
      "source": [
        "# Part 3: Affine Structure from Motion (40 points)"
      ],
      "metadata": {
        "id": "NVJf6O25JW2k"
      }
    },
    {
      "cell_type": "markdown",
      "source": [
        "## Overview\n",
        "<img src=\"https://drive.google.com/uc?id=1nYd0eJjBtVIPuapfxuiVzswjswGN_Gq2&export=download\" width=\"800\"/>\n",
        "\n",
        "\n",
        "This problem continues the interest point detection and tracking problem from HW2. Now, you will recover a 3D pointcloud from the image sequence hotel.seq0.png … hotel.seq50.png. You are encouraged to use your results from HW2, but in case you were not able to complete it, we have also included pre- computed intermediate results in the supplemental material. Submit your code so that we can reproduce your results.\n",
        "\n",
        "The outline of the affine structure from motion algorithm:\n",
        "\n",
        "<img src=\"https://drive.google.com/uc?id=1BSvHwRR5gNBwDGlrk-dcLCRcuIAvab__&export=download\" width=\"700\"/>\n"
      ],
      "metadata": {
        "id": "SGgP6ygcJaqW"
      }
    },
    {
      "cell_type": "markdown",
      "source": [
        "## Data\n",
        "\n",
        "**WARNING: Colab deletes all files everytime runtime is disconnected. Make sure to re-download the inputs when it happens.**"
      ],
      "metadata": {
        "id": "YEdG0AQNK2DN"
      }
    },
    {
      "cell_type": "code",
      "source": [
        "!rm -rf Part2_data.zip\n",
        "!rm -rf Part2_data"
      ],
      "metadata": {
        "id": "OyPp81GFhSzI"
      },
      "execution_count": null,
      "outputs": []
    },
    {
      "cell_type": "code",
      "source": [
        "# Download Data -- run this cell only one time per runtime\n",
        "!gdown 1A0Rin_YMmWkExjI99vfLYvU_dy-9gFTT\n",
        "!unzip \"/content/Part2_data.zip\" -d \"/content/\"\n",
        "# Load Matches\n",
        "data = loadmat('/content/Part2_data/tracks.mat')"
      ],
      "metadata": {
        "id": "R0c9I8joK4bW",
        "outputId": "85e81225-f059-4522-e16e-a16b9b75d296",
        "colab": {
          "base_uri": "https://localhost:8080/"
        }
      },
      "execution_count": null,
      "outputs": [
        {
          "output_type": "stream",
          "name": "stdout",
          "text": [
            "Downloading...\n",
            "From: https://drive.google.com/uc?id=1A0Rin_YMmWkExjI99vfLYvU_dy-9gFTT\n",
            "To: /content/Part2_data.zip\n",
            "\r  0% 0.00/5.44M [00:00<?, ?B/s]\r100% 5.44M/5.44M [00:00<00:00, 210MB/s]\n",
            "Archive:  /content/Part2_data.zip\n",
            "   creating: /content/Part2_data/\n",
            "   creating: /content/Part2_data/images/\n",
            "  inflating: /content/Part2_data/images/hotel.seq0.png  \n",
            "  inflating: /content/Part2_data/images/hotel.seq1.png  \n",
            "  inflating: /content/Part2_data/images/hotel.seq10.png  \n",
            "  inflating: /content/Part2_data/images/hotel.seq11.png  \n",
            "  inflating: /content/Part2_data/images/hotel.seq12.png  \n",
            "  inflating: /content/Part2_data/images/hotel.seq13.png  \n",
            "  inflating: /content/Part2_data/images/hotel.seq14.png  \n",
            "  inflating: /content/Part2_data/images/hotel.seq15.png  \n",
            "  inflating: /content/Part2_data/images/hotel.seq16.png  \n",
            "  inflating: /content/Part2_data/images/hotel.seq17.png  \n",
            "  inflating: /content/Part2_data/images/hotel.seq18.png  \n",
            "  inflating: /content/Part2_data/images/hotel.seq19.png  \n",
            "  inflating: /content/Part2_data/images/hotel.seq2.png  \n",
            "  inflating: /content/Part2_data/images/hotel.seq20.png  \n",
            "  inflating: /content/Part2_data/images/hotel.seq21.png  \n",
            "  inflating: /content/Part2_data/images/hotel.seq22.png  \n",
            "  inflating: /content/Part2_data/images/hotel.seq23.png  \n",
            "  inflating: /content/Part2_data/images/hotel.seq24.png  \n",
            "  inflating: /content/Part2_data/images/hotel.seq25.png  \n",
            "  inflating: /content/Part2_data/images/hotel.seq26.png  \n",
            "  inflating: /content/Part2_data/images/hotel.seq27.png  \n",
            "  inflating: /content/Part2_data/images/hotel.seq28.png  \n",
            "  inflating: /content/Part2_data/images/hotel.seq29.png  \n",
            "  inflating: /content/Part2_data/images/hotel.seq3.png  \n",
            "  inflating: /content/Part2_data/images/hotel.seq30.png  \n",
            "  inflating: /content/Part2_data/images/hotel.seq31.png  \n",
            "  inflating: /content/Part2_data/images/hotel.seq32.png  \n",
            "  inflating: /content/Part2_data/images/hotel.seq33.png  \n",
            "  inflating: /content/Part2_data/images/hotel.seq34.png  \n",
            "  inflating: /content/Part2_data/images/hotel.seq35.png  \n",
            "  inflating: /content/Part2_data/images/hotel.seq36.png  \n",
            "  inflating: /content/Part2_data/images/hotel.seq37.png  \n",
            "  inflating: /content/Part2_data/images/hotel.seq38.png  \n",
            "  inflating: /content/Part2_data/images/hotel.seq39.png  \n",
            "  inflating: /content/Part2_data/images/hotel.seq4.png  \n",
            "  inflating: /content/Part2_data/images/hotel.seq40.png  \n",
            "  inflating: /content/Part2_data/images/hotel.seq41.png  \n",
            "  inflating: /content/Part2_data/images/hotel.seq42.png  \n",
            "  inflating: /content/Part2_data/images/hotel.seq43.png  \n",
            "  inflating: /content/Part2_data/images/hotel.seq44.png  \n",
            "  inflating: /content/Part2_data/images/hotel.seq45.png  \n",
            "  inflating: /content/Part2_data/images/hotel.seq46.png  \n",
            "  inflating: /content/Part2_data/images/hotel.seq47.png  \n",
            "  inflating: /content/Part2_data/images/hotel.seq48.png  \n",
            "  inflating: /content/Part2_data/images/hotel.seq49.png  \n",
            "  inflating: /content/Part2_data/images/hotel.seq5.png  \n",
            "  inflating: /content/Part2_data/images/hotel.seq50.png  \n",
            "  inflating: /content/Part2_data/images/hotel.seq6.png  \n",
            "  inflating: /content/Part2_data/images/hotel.seq7.png  \n",
            "  inflating: /content/Part2_data/images/hotel.seq8.png  \n",
            "  inflating: /content/Part2_data/images/hotel.seq9.png  \n",
            "  inflating: /content/Part2_data/tracks.mat  \n"
          ]
        }
      ]
    },
    {
      "cell_type": "markdown",
      "source": [
        "### Code (20 pt)"
      ],
      "metadata": {
        "id": "VzZskEHdNaxT"
      }
    },
    {
      "cell_type": "code",
      "source": [
        "from numpy import linalg as la\n",
        "def isPD(B):\n",
        "    try:\n",
        "        _ = la.cholesky(B)\n",
        "        return True\n",
        "    except la.LinAlgError:\n",
        "        return False\n",
        "def nearestPD(A):\n",
        "    B = (A + A.T) / 2\n",
        "    _, s, V = la.svd(B)\n",
        "\n",
        "    H = np.dot(V.T, np.dot(np.diag(s), V))\n",
        "\n",
        "    A2 = (B + H) / 2\n",
        "\n",
        "    A3 = (A2 + A2.T) / 2\n",
        "\n",
        "    if isPD(A3):\n",
        "        return A3\n",
        "\n",
        "    spacing = np.spacing(la.norm(A))\n",
        "    # The above is different from [1]. It appears that MATLAB's `chol` Cholesky\n",
        "    # decomposition will accept matrixes with exactly 0-eigenvalue, whereas\n",
        "    # Numpy's will not. So where [1] uses `eps(mineig)` (where `eps` is Matlab\n",
        "    # for `np.spacing`), we use the above definition. CAVEAT: our `spacing`\n",
        "    # will be much larger than [1]'s `eps(mineig)`, since `mineig` is usually on\n",
        "    # the order of 1e-16, and `eps(1e-16)` is on the order of 1e-34, whereas\n",
        "    # `spacing` will, for Gaussian random matrixes of small dimension, be on\n",
        "    # othe order of 1e-16. In practice, both ways converge, as the unit test\n",
        "    # below suggests.\n",
        "    I = np.eye(A.shape[0])\n",
        "    k = 1\n",
        "    while not isPD(A3):\n",
        "        mineig = np.min(np.real(la.eigvals(A3)))\n",
        "        A3 += I * (-mineig * k**2 + spacing)\n",
        "        k += 1\n",
        "\n",
        "    return A3"
      ],
      "metadata": {
        "id": "m1WIiKGlZ5z4"
      },
      "execution_count": null,
      "outputs": []
    },
    {
      "cell_type": "code",
      "source": [
        "track_x = data['track_x']\n",
        "track_y = data['track_y']\n",
        "\n",
        "from scipy import linalg\n",
        "import scipy\n",
        "\n",
        "def centerCoordinates(track_x, track_y):\n",
        "  centered_x = np.zeros(track_x.shape)\n",
        "  centered_y = np.zeros(track_y.shape)\n",
        "\n",
        "  for i in range(track_x.shape[1]):\n",
        "    centroid_x = np.sum(track_x[:,i])/len(track_x[:,i])\n",
        "    centroid_y = np.sum(track_y[:,i])/len(track_y[:,i])\n",
        "    centered_x[:,i] = track_x[:,i]-centroid_x\n",
        "    centered_y[:,i] = track_y[:,i]-centroid_y\n",
        "\n",
        "  return centered_x, centered_y\n",
        "\n",
        "def cleanTrackPoints(track_x, track_y):\n",
        "  resolved_x = np.nan_to_num(track_x)\n",
        "  resolved_y = np.nan_to_num(track_y)\n",
        "\n",
        "  print(resolved_x)\n",
        "  print(resolved_y)\n",
        "  \n",
        "  return resolved_x, resolved_y\n",
        "\n",
        "def affineSFM(track_x, track_y):\n",
        "  '''\n",
        "  Function: Affine structure from motion algorithm\n",
        "  % Normalize x, y to zero mean\n",
        "  % Create measurement matrix\n",
        "  D = [xn' ; yn'];\n",
        "  % Decompose and enforce rank 3\n",
        "  % Apply orthographic constraints\n",
        "  '''\n",
        "  centered_X, centered_Y = centerCoordinates(track_x, track_y)\n",
        "  measurement_Matrix = np.zeros((2*centered_X.shape[1], centered_X.shape[0]))\n",
        "  for i in range(centered_X.shape[1]):\n",
        "    measurement_Matrix[i,:] = centered_X[:,i]\n",
        "  for i in range(centered_X.shape[1]):\n",
        "    measurement_Matrix[i+centered_X.shape[1],:] = centered_Y[:,i]\n",
        "\n",
        "  # SVD\n",
        "  u,w,v = np.linalg.svd(measurement_Matrix, full_matrices = True)\n",
        "\n",
        "  u_3 = u[:,0:3]\n",
        "  w_3 = np.zeros((3,3))\n",
        "  v_3 = v[0:3, :]\n",
        "  for i in range(3):\n",
        "    w_3[i,i] = w[i]\n",
        "\n",
        "  w_root = linalg.sqrtm(w_3)\n",
        "  a_prime = u_3 @ w_root\n",
        "  x_prime = w_root @ v_3\n",
        "\n",
        "  def generateColumn(v1,v2):\n",
        "    [a,b,c] = v1\n",
        "    [d,e,f] = v2\n",
        "    res = [a*d, b*d, c*d, a*e, b*e, c*e, a*f, b*f, c*f]\n",
        "    return res\n",
        "\n",
        "  a_prime_i = a_prime[:centered_X.shape[1],:]\n",
        "  a_prime_j = a_prime[centered_X.shape[1]:,:]\n",
        "\n",
        "  def equationFormer(leftMatrix, rightColumn, R1, R2, valueforRightColumn):\n",
        "      rightColumn.fill(valueforRightColumn)\n",
        "      n = R1.shape[0]\n",
        "      for i in range(n):\n",
        "        r1 = R1[i, :]\n",
        "        r2 = R2[i, :]\n",
        "        res = generateColumn(r1,r2)\n",
        "        leftMatrix[i, :] = res\n",
        "\n",
        "      return leftMatrix, rightColumn\n",
        "\n",
        "  m1,k1 = equationFormer(np.zeros((centered_X.shape[1], 9)), np.zeros((centered_X.shape[1], 1)),a_prime_i, a_prime_i, 1)\n",
        "  m2,k2 = equationFormer(np.zeros((centered_X.shape[1], 9)), np.zeros((centered_X.shape[1], 1)),a_prime_j, a_prime_j, 1)\n",
        "  m3,k3 = equationFormer(np.zeros((centered_X.shape[1], 9)), np.zeros((centered_X.shape[1], 1)),a_prime_i, a_prime_j, 0)\n",
        "\n",
        "  leftMatrix = np.vstack((m1,m2,m3))\n",
        "  rightColumn = np.vstack((k1,k2,k3))\n",
        "  rightColumn = rightColumn.squeeze()\n",
        "\n",
        "  l = np.linalg.lstsq(leftMatrix, rightColumn, rcond=None)[0]\n",
        "\n",
        "  L = np.zeros((3,3))\n",
        "\n",
        "  L[0][0] = l[0]\n",
        "  L[1][0] = l[1]\n",
        "  L[2][0] = l[2]\n",
        "  L[0][1] = l[3]\n",
        "  L[1][1] = l[4]\n",
        "  L[2][1] = l[5]\n",
        "  L[0][2] = l[6]\n",
        "  L[1][2] = l[7]\n",
        "  L[2][2] = l[8]\n",
        "\n",
        "  L = nearestPD(L)\n",
        "  \n",
        "  C = np.linalg.cholesky(L)\n",
        "  # print(l)\n",
        "  # print(L)\n",
        "  scipy.linalg.cholesky(L, lower=True)\n",
        "  Aret = np.dot(a_prime, C)\n",
        "  Xret = np.dot(np.linalg.inv(C), x_prime)\n",
        "  return Aret, Xret\n",
        "\n",
        "cleanedX, cleanedY = cleanTrackPoints(track_x, track_y)\n",
        "A,X = affineSFM(cleanedX, cleanedY)\n",
        "X = X.T\n",
        "print(X.shape)"
      ],
      "metadata": {
        "id": "Mo14ELnGNbIr",
        "outputId": "5c4c39fa-7a95-482c-d651-0c22be8ccc34",
        "colab": {
          "base_uri": "https://localhost:8080/"
        }
      },
      "execution_count": null,
      "outputs": [
        {
          "output_type": "stream",
          "name": "stdout",
          "text": [
            "[[201.         201.19923266 201.39260081 ... 214.14622823 214.50362938\n",
            "  214.98713309]\n",
            " [255.         255.56389819 255.88661684 ... 276.03912157 276.52184558\n",
            "  277.09578362]\n",
            " [165.         165.05581785 165.15324359 ... 172.95607661 173.23759997\n",
            "  173.59030403]\n",
            " ...\n",
            " [488.         487.33052687 486.32465387 ...   0.           0.\n",
            "    0.        ]\n",
            " [337.         337.87251031 338.49508458 ... 362.46875441 362.90183082\n",
            "  363.50184019]\n",
            " [383.         383.54276015 384.13284722 ... 404.31813262 404.60621991\n",
            "  404.94788903]]\n",
            "[[243.         243.08051765 242.95833596 ... 227.29577988 226.82431023\n",
            "  226.35145579]\n",
            " [261.         261.3382253  261.19186593 ... 247.90862236 247.59609777\n",
            "  247.20678636]\n",
            " [230.         229.91649654 229.80212738 ... 212.22570809 211.67580599\n",
            "  211.15843872]\n",
            " ...\n",
            " [442.         442.77370494 444.93576045 ...   0.           0.\n",
            "    0.        ]\n",
            " [246.         246.5310715  246.94158172 ... 258.26639623 258.44820101\n",
            "  258.7129412 ]\n",
            " [217.         217.40892375 218.2978678  ... 254.51465344 255.27497876\n",
            "  255.98826855]]\n",
            "(500, 3)\n"
          ]
        }
      ]
    },
    {
      "cell_type": "code",
      "source": [
        "X1 = X[:,0]\n",
        "Y1 = X[:,1]\n",
        "Z1 = X[:,2]\n",
        "\n",
        "factor = 1\n",
        "pointcloud = np.zeros((X1.shape[0], 3))\n",
        "pointcloud[:, 0] = X1\n",
        "pointcloud[:, 1] = Y1\n",
        "pointcloud[:, 2] = Z1 * factor\n",
        "\n"
      ],
      "metadata": {
        "id": "S1TrXCpZaH83"
      },
      "execution_count": null,
      "outputs": []
    },
    {
      "cell_type": "code",
      "source": [
        "fig = plt.figure()\n",
        "ax = fig.add_subplot(111, projection='3d')\n",
        "pnt3d = ax.scatter(pointcloud[:, 0],   # x\n",
        "           pointcloud[:, 1],   # y\n",
        "           pointcloud[:, 2],   # z\n",
        "           c=pointcloud[:, 2], # height data for color,\n",
        "           marker=\"x\")"
      ],
      "metadata": {
        "colab": {
          "base_uri": "https://localhost:8080/",
          "height": 248
        },
        "id": "8g08FWqMcixC",
        "outputId": "ed9e3dd4-8cc2-47d9-9e42-986eff17a535"
      },
      "execution_count": null,
      "outputs": [
        {
          "output_type": "display_data",
          "data": {
            "text/plain": [
              "<Figure size 432x288 with 1 Axes>"
            ],
            "image/png": "[encoded data removed]"
          },
          "metadata": {
            "needs_background": "light"
          }
        }
      ]
    },
    {
      "cell_type": "code",
      "source": [
        "AT = np.transpose(A)"
      ],
      "metadata": {
        "id": "Pbt_zePBdpS7"
      },
      "execution_count": null,
      "outputs": []
    },
    {
      "cell_type": "code",
      "source": [
        "import plotly.graph_objects as go\n",
        "import numpy as np\n",
        "\n",
        "X = A[:,0]\n",
        "Y = A[:,1]\n",
        "Z = A[:,2]\n",
        "# Helix equation\n",
        "# t = np.linspace(0, 10, 50)\n",
        "\n",
        "fig = go.Figure(data=[go.Scatter3d(x=X, y=Y, z=Z,\n",
        "                                   mode='markers')])\n",
        "fig.show()"
      ],
      "metadata": {
        "id": "_yDfIBG7aSwi",
        "colab": {
          "base_uri": "https://localhost:8080/",
          "height": 542
        },
        "outputId": "1da22f64-1c50-41e3-9416-59f4d38f8af0"
      },
      "execution_count": null,
      "outputs": [
        {
          "output_type": "display_data",
          "data": {
            "text/html": [
              "<html>\n",
              "<head><meta charset=\"utf-8\" /></head>\n",
              "<body>\n",
              "    <div>            <script src=\"https://cdnjs.cloudflare.com/ajax/libs/mathjax/2.7.5/MathJax.js?config=TeX-AMS-MML_SVG\"></script><script type=\"text/javascript\">if (window.MathJax) {MathJax.Hub.Config({SVG: {font: \"STIX-Web\"}});}</script>                <script type=\"text/javascript\">window.PlotlyConfig = {MathJaxConfig: 'local'};</script>\n",
              "        <script src=\"https://cdn.plot.ly/plotly-2.8.3.min.js\"></script>                <div id=\"049a2bb3-8f91-45f5-83c4-9f20c14586f0\" class=\"plotly-graph-div\" style=\"height:525px; width:100%;\"></div>            <script type=\"text/javascript\">                                    window.PLOTLYENV=window.PLOTLYENV || {};                                    if (document.getElementById(\"049a2bb3-8f91-45f5-83c4-9f20c14586f0\")) {                    Plotly.newPlot(                        \"049a2bb3-8f91-45f5-83c4-9f20c14586f0\",                        [{\"mode\":\"markers\",\"x\":[-0.24730567936155348,-0.4608444958470491,-0.46187238212192605,-0.47806447725001433,-0.4869170679642061,-0.48765903815514733,-0.4894918023749067,-0.4965301744497331,-0.4971924942954813,-0.5111024171815464,-0.5134956065447112,-0.5192917236425629,-0.5230182590457755,-0.5379086221741941,-0.5546274339174664,-0.5546498487849536,-0.558554570566581,-0.5618335194492582,-0.5679201969116741,-0.5760242993350402,-0.5779998326065966,-0.5777859935101736,-0.5812916701721564,-0.5811721827128742,-0.5893642671027876,-0.5890894056470158,-0.5908791949708194,-0.5905830924748993,-0.5919152480727295,-0.5915201106486178,-0.5910534793078718,-0.5908029920919078,-0.5905888277999226,-0.5874967234420444,-0.5871022560079298,-0.5875364606616926,-0.5871914889210608,-0.5848786534419875,-0.5816326071715143,-0.5778508365002208,-0.5751681746733035,-0.5706767889705064,-0.5674461554661322,-0.5599282999615889,-0.5549437437041426,-0.5507330400275098,-0.5488954908524064,-0.5482699998482095,-0.5475990595403479,-0.5336657320141676,-0.5225649869928956,0.09773404128264634,-0.1706451189900562,-0.17162927577356543,-0.19640728805278332,-0.21237307019980678,-0.2135332230592668,-0.22366328547424133,-0.23235801611906837,-0.233544960844828,-0.2729606543894629,-0.2824261532975202,-0.28972303793841864,-0.2980329846950075,-0.32385486851776496,-0.3461874603111092,-0.3477327993475338,-0.36707296427564806,-0.3725653119360643,-0.38103528699257283,-0.39234724552472144,-0.3960021122641787,-0.3977454602511816,-0.4035853815467762,-0.4111016586664623,-0.4259055789650773,-0.4276873982292822,-0.4319422859273126,-0.4336871759107137,-0.4387373823546556,-0.4404527472986905,-0.4481801593746045,-0.44994491105197265,-0.45165426564513667,-0.45452676685997834,-0.4562650390585056,-0.45942028205340113,-0.4610924275906141,-0.4659731345035319,-0.46980289759514665,-0.46806980646092605,-0.4672898553589759,-0.46487447945624577,-0.4633408343187261,-0.45732447486287503,-0.4541349581303525,-0.4515646907471659,-0.45128880011317357,-0.4527946154675403,-0.45423199969269556,-0.4406361390891739,-0.43056158594741595],\"y\":[-0.7461003842572992,-0.7333458883630388,-0.7399716053305672,-0.7446366446454369,-0.7492894295192919,-0.7558830706409054,-0.7627938289111659,-0.767306209348634,-0.7738235129191083,-0.773332314838964,-0.7805065006167494,-0.7826644205447357,-0.7892395461438472,-0.7860973878702463,-0.7789290176081431,-0.7847994272932198,-0.7854029762101216,-0.7857739376149475,-0.7812113321236713,-0.7719219573342292,-0.7682639591165771,-0.7739536240790197,-0.7684281061370328,-0.7742208689639476,-0.7596436159058885,-0.7653433608886825,-0.7648014930468432,-0.7703581421592594,-0.7801326961821223,-0.7854229298961356,-0.7875100137250367,-0.7928241295862872,-0.7982006290433983,-0.7926787049496661,-0.7974424718064398,-0.8083981947978633,-0.8136162469645503,-0.8164975646583336,-0.8166010655986217,-0.8155435390644664,-0.8202071786675195,-0.8186951679956292,-0.8234244914386553,-0.8240598345755447,-0.8237988608756983,-0.8278362982035087,-0.8404067921224306,-0.8445737602329526,-0.8487641529960028,-0.8534257881531094,-0.8548751749485288,0.8992597890671357,0.9135816697612337,0.9124267099285442,0.9129211445065888,0.9125235394256835,0.9110235699311684,0.9064306458824036,0.9070584070012024,0.9054576040680662,0.896673127880842,0.8911320112803907,0.8936838641190766,0.8904867224112984,0.8936223471417711,0.9059586564626395,0.9035287971591245,0.8935608389209538,0.896767099887817,0.9061070567891608,0.9197177816352952,0.9265233564993798,0.9236592701785923,0.9332738192658734,0.9220500299869446,0.935657481223185,0.9324994201723575,0.9368933363038908,0.9337663541884789,0.9222034664180807,0.9189563751234865,0.8991981255194018,0.8957044292640888,0.8926291726391228,0.8845974558476088,0.8808217066652392,0.8659985115664202,0.8622780378255779,0.8386169530904956,0.816922657734098,0.8186747556420383,0.8138425843368039,0.8158355702490756,0.8112505459003376,0.8107003165034595,0.8115838532912866,0.8074066755798883,0.7897463805301459,0.7852391268089054,0.7807820532535436,0.775097399632547,0.7737775909814761],\"z\":[-0.30317143116858536,-0.44089297594766935,-0.43979153104509777,-0.4436031129438,-0.44324453611773074,-0.4419995069301617,-0.44099221131545924,-0.4365032543599817,-0.4352116736335391,-0.41907687001057853,-0.41703529745658424,-0.4056673836583247,-0.40014428703351446,-0.36546713286042115,-0.3172261519200589,-0.31608577228757445,-0.2982821334290145,-0.28062262109328295,-0.24447997465957072,-0.191295957793006,-0.16687137108471511,-0.1661422066395727,-0.12586337679109327,-0.12516293229374234,-0.024737971349133327,-0.02438315115528029,0.0115328945843104,0.011843026073371418,0.01874506659135769,0.019005534962536635,0.03733444993432302,0.037611085845616905,0.03792342037773437,0.07868893988368755,0.07880034927296148,0.08551006184669725,0.08563717023535719,0.09999516872216602,0.11562798033919978,0.13065579462575116,0.14149096565310634,0.15478721243344676,0.16422086125033036,0.1833946827134121,0.1930560110238477,0.20002886154466534,0.20246749759622146,0.2021566794471555,0.20183736308804545,0.21020418582393421,0.2143843903990971,-0.1298072961940072,-0.30662730359442536,-0.309168495790225,-0.32123513073070903,-0.32823259938165517,-0.33078337278509534,-0.33549993359779307,-0.3342797093014473,-0.33680135847586645,-0.32477431844260124,-0.3243717850987359,-0.3159226513895139,-0.3102023907033391,-0.26894673941101016,-0.21424547313322723,-0.2163111113450064,-0.19539245784763312,-0.17858502780863159,-0.14088080985929388,-0.0826126611909318,-0.06102059469913147,-0.06249403232471387,-0.019963397987497963,-0.018457809887103546,0.1034492538895216,0.10243669909518131,0.14388981474385584,0.1428789044145152,0.15599978400802086,0.1550519825709016,0.17988286077658844,0.17899830093769795,0.17821942772586127,0.2251004697098793,0.22435028961145742,0.23594684278878,0.235147008020146,0.252538139140431,0.269862261905748,0.2848760484191307,0.2972013009824019,0.310472891848933,0.32109894114857246,0.34193013496215596,0.3516951464986295,0.3593585776386154,0.3630066121247148,0.3624577132090593,0.36187899350549413,0.3709936811371789,0.3751973742033695],\"type\":\"scatter3d\"}],                        {\"template\":{\"data\":{\"bar\":[{\"error_x\":{\"color\":\"#2a3f5f\"},\"error_y\":{\"color\":\"#2a3f5f\"},\"marker\":{\"line\":{\"color\":\"#E5ECF6\",\"width\":0.5},\"pattern\":{\"fillmode\":\"overlay\",\"size\":10,\"solidity\":0.2}},\"type\":\"bar\"}],\"barpolar\":[{\"marker\":{\"line\":{\"color\":\"#E5ECF6\",\"width\":0.5},\"pattern\":{\"fillmode\":\"overlay\",\"size\":10,\"solidity\":0.2}},\"type\":\"barpolar\"}],\"carpet\":[{\"aaxis\":{\"endlinecolor\":\"#2a3f5f\",\"gridcolor\":\"white\",\"linecolor\":\"white\",\"minorgridcolor\":\"white\",\"startlinecolor\":\"#2a3f5f\"},\"baxis\":{\"endlinecolor\":\"#2a3f5f\",\"gridcolor\":\"white\",\"linecolor\":\"white\",\"minorgridcolor\":\"white\",\"startlinecolor\":\"#2a3f5f\"},\"type\":\"carpet\"}],\"choropleth\":[{\"colorbar\":{\"outlinewidth\":0,\"ticks\":\"\"},\"type\":\"choropleth\"}],\"contour\":[{\"colorbar\":{\"outlinewidth\":0,\"ticks\":\"\"},\"colorscale\":[[0.0,\"#0d0887\"],[0.1111111111111111,\"#46039f\"],[0.2222222222222222,\"#7201a8\"],[0.3333333333333333,\"#9c179e\"],[0.4444444444444444,\"#bd3786\"],[0.5555555555555556,\"#d8576b\"],[0.6666666666666666,\"#ed7953\"],[0.7777777777777778,\"#fb9f3a\"],[0.8888888888888888,\"#fdca26\"],[1.0,\"#f0f921\"]],\"type\":\"contour\"}],\"contourcarpet\":[{\"colorbar\":{\"outlinewidth\":0,\"ticks\":\"\"},\"type\":\"contourcarpet\"}],\"heatmap\":[{\"colorbar\":{\"outlinewidth\":0,\"ticks\":\"\"},\"colorscale\":[[0.0,\"#0d0887\"],[0.1111111111111111,\"#46039f\"],[0.2222222222222222,\"#7201a8\"],[0.3333333333333333,\"#9c179e\"],[0.4444444444444444,\"#bd3786\"],[0.5555555555555556,\"#d8576b\"],[0.6666666666666666,\"#ed7953\"],[0.7777777777777778,\"#fb9f3a\"],[0.8888888888888888,\"#fdca26\"],[1.0,\"#f0f921\"]],\"type\":\"heatmap\"}],\"heatmapgl\":[{\"colorbar\":{\"outlinewidth\":0,\"ticks\":\"\"},\"colorscale\":[[0.0,\"#0d0887\"],[0.1111111111111111,\"#46039f\"],[0.2222222222222222,\"#7201a8\"],[0.3333333333333333,\"#9c179e\"],[0.4444444444444444,\"#bd3786\"],[0.5555555555555556,\"#d8576b\"],[0.6666666666666666,\"#ed7953\"],[0.7777777777777778,\"#fb9f3a\"],[0.8888888888888888,\"#fdca26\"],[1.0,\"#f0f921\"]],\"type\":\"heatmapgl\"}],\"histogram\":[{\"marker\":{\"pattern\":{\"fillmode\":\"overlay\",\"size\":10,\"solidity\":0.2}},\"type\":\"histogram\"}],\"histogram2d\":[{\"colorbar\":{\"outlinewidth\":0,\"ticks\":\"\"},\"colorscale\":[[0.0,\"#0d0887\"],[0.1111111111111111,\"#46039f\"],[0.2222222222222222,\"#7201a8\"],[0.3333333333333333,\"#9c179e\"],[0.4444444444444444,\"#bd3786\"],[0.5555555555555556,\"#d8576b\"],[0.6666666666666666,\"#ed7953\"],[0.7777777777777778,\"#fb9f3a\"],[0.8888888888888888,\"#fdca26\"],[1.0,\"#f0f921\"]],\"type\":\"histogram2d\"}],\"histogram2dcontour\":[{\"colorbar\":{\"outlinewidth\":0,\"ticks\":\"\"},\"colorscale\":[[0.0,\"#0d0887\"],[0.1111111111111111,\"#46039f\"],[0.2222222222222222,\"#7201a8\"],[0.3333333333333333,\"#9c179e\"],[0.4444444444444444,\"#bd3786\"],[0.5555555555555556,\"#d8576b\"],[0.6666666666666666,\"#ed7953\"],[0.7777777777777778,\"#fb9f3a\"],[0.8888888888888888,\"#fdca26\"],[1.0,\"#f0f921\"]],\"type\":\"histogram2dcontour\"}],\"mesh3d\":[{\"colorbar\":{\"outlinewidth\":0,\"ticks\":\"\"},\"type\":\"mesh3d\"}],\"parcoords\":[{\"line\":{\"colorbar\":{\"outlinewidth\":0,\"ticks\":\"\"}},\"type\":\"parcoords\"}],\"pie\":[{\"automargin\":true,\"type\":\"pie\"}],\"scatter\":[{\"marker\":{\"colorbar\":{\"outlinewidth\":0,\"ticks\":\"\"}},\"type\":\"scatter\"}],\"scatter3d\":[{\"line\":{\"colorbar\":{\"outlinewidth\":0,\"ticks\":\"\"}},\"marker\":{\"colorbar\":{\"outlinewidth\":0,\"ticks\":\"\"}},\"type\":\"scatter3d\"}],\"scattercarpet\":[{\"marker\":{\"colorbar\":{\"outlinewidth\":0,\"ticks\":\"\"}},\"type\":\"scattercarpet\"}],\"scattergeo\":[{\"marker\":{\"colorbar\":{\"outlinewidth\":0,\"ticks\":\"\"}},\"type\":\"scattergeo\"}],\"scattergl\":[{\"marker\":{\"colorbar\":{\"outlinewidth\":0,\"ticks\":\"\"}},\"type\":\"scattergl\"}],\"scattermapbox\":[{\"marker\":{\"colorbar\":{\"outlinewidth\":0,\"ticks\":\"\"}},\"type\":\"scattermapbox\"}],\"scatterpolar\":[{\"marker\":{\"colorbar\":{\"outlinewidth\":0,\"ticks\":\"\"}},\"type\":\"scatterpolar\"}],\"scatterpolargl\":[{\"marker\":{\"colorbar\":{\"outlinewidth\":0,\"ticks\":\"\"}},\"type\":\"scatterpolargl\"}],\"scatterternary\":[{\"marker\":{\"colorbar\":{\"outlinewidth\":0,\"ticks\":\"\"}},\"type\":\"scatterternary\"}],\"surface\":[{\"colorbar\":{\"outlinewidth\":0,\"ticks\":\"\"},\"colorscale\":[[0.0,\"#0d0887\"],[0.1111111111111111,\"#46039f\"],[0.2222222222222222,\"#7201a8\"],[0.3333333333333333,\"#9c179e\"],[0.4444444444444444,\"#bd3786\"],[0.5555555555555556,\"#d8576b\"],[0.6666666666666666,\"#ed7953\"],[0.7777777777777778,\"#fb9f3a\"],[0.8888888888888888,\"#fdca26\"],[1.0,\"#f0f921\"]],\"type\":\"surface\"}],\"table\":[{\"cells\":{\"fill\":{\"color\":\"#EBF0F8\"},\"line\":{\"color\":\"white\"}},\"header\":{\"fill\":{\"color\":\"#C8D4E3\"},\"line\":{\"color\":\"white\"}},\"type\":\"table\"}]},\"layout\":{\"annotationdefaults\":{\"arrowcolor\":\"#2a3f5f\",\"arrowhead\":0,\"arrowwidth\":1},\"autotypenumbers\":\"strict\",\"coloraxis\":{\"colorbar\":{\"outlinewidth\":0,\"ticks\":\"\"}},\"colorscale\":{\"diverging\":[[0,\"#8e0152\"],[0.1,\"#c51b7d\"],[0.2,\"#de77ae\"],[0.3,\"#f1b6da\"],[0.4,\"#fde0ef\"],[0.5,\"#f7f7f7\"],[0.6,\"#e6f5d0\"],[0.7,\"#b8e186\"],[0.8,\"#7fbc41\"],[0.9,\"#4d9221\"],[1,\"#276419\"]],\"sequential\":[[0.0,\"#0d0887\"],[0.1111111111111111,\"#46039f\"],[0.2222222222222222,\"#7201a8\"],[0.3333333333333333,\"#9c179e\"],[0.4444444444444444,\"#bd3786\"],[0.5555555555555556,\"#d8576b\"],[0.6666666666666666,\"#ed7953\"],[0.7777777777777778,\"#fb9f3a\"],[0.8888888888888888,\"#fdca26\"],[1.0,\"#f0f921\"]],\"sequentialminus\":[[0.0,\"#0d0887\"],[0.1111111111111111,\"#46039f\"],[0.2222222222222222,\"#7201a8\"],[0.3333333333333333,\"#9c179e\"],[0.4444444444444444,\"#bd3786\"],[0.5555555555555556,\"#d8576b\"],[0.6666666666666666,\"#ed7953\"],[0.7777777777777778,\"#fb9f3a\"],[0.8888888888888888,\"#fdca26\"],[1.0,\"#f0f921\"]]},\"colorway\":[\"#636efa\",\"#EF553B\",\"#00cc96\",\"#ab63fa\",\"#FFA15A\",\"#19d3f3\",\"#FF6692\",\"#B6E880\",\"#FF97FF\",\"#FECB52\"],\"font\":{\"color\":\"#2a3f5f\"},\"geo\":{\"bgcolor\":\"white\",\"lakecolor\":\"white\",\"landcolor\":\"#E5ECF6\",\"showlakes\":true,\"showland\":true,\"subunitcolor\":\"white\"},\"hoverlabel\":{\"align\":\"left\"},\"hovermode\":\"closest\",\"mapbox\":{\"style\":\"light\"},\"paper_bgcolor\":\"white\",\"plot_bgcolor\":\"#E5ECF6\",\"polar\":{\"angularaxis\":{\"gridcolor\":\"white\",\"linecolor\":\"white\",\"ticks\":\"\"},\"bgcolor\":\"#E5ECF6\",\"radialaxis\":{\"gridcolor\":\"white\",\"linecolor\":\"white\",\"ticks\":\"\"}},\"scene\":{\"xaxis\":{\"backgroundcolor\":\"#E5ECF6\",\"gridcolor\":\"white\",\"gridwidth\":2,\"linecolor\":\"white\",\"showbackground\":true,\"ticks\":\"\",\"zerolinecolor\":\"white\"},\"yaxis\":{\"backgroundcolor\":\"#E5ECF6\",\"gridcolor\":\"white\",\"gridwidth\":2,\"linecolor\":\"white\",\"showbackground\":true,\"ticks\":\"\",\"zerolinecolor\":\"white\"},\"zaxis\":{\"backgroundcolor\":\"#E5ECF6\",\"gridcolor\":\"white\",\"gridwidth\":2,\"linecolor\":\"white\",\"showbackground\":true,\"ticks\":\"\",\"zerolinecolor\":\"white\"}},\"shapedefaults\":{\"line\":{\"color\":\"#2a3f5f\"}},\"ternary\":{\"aaxis\":{\"gridcolor\":\"white\",\"linecolor\":\"white\",\"ticks\":\"\"},\"baxis\":{\"gridcolor\":\"white\",\"linecolor\":\"white\",\"ticks\":\"\"},\"bgcolor\":\"#E5ECF6\",\"caxis\":{\"gridcolor\":\"white\",\"linecolor\":\"white\",\"ticks\":\"\"}},\"title\":{\"x\":0.05},\"xaxis\":{\"automargin\":true,\"gridcolor\":\"white\",\"linecolor\":\"white\",\"ticks\":\"\",\"title\":{\"standoff\":15},\"zerolinecolor\":\"white\",\"zerolinewidth\":2},\"yaxis\":{\"automargin\":true,\"gridcolor\":\"white\",\"linecolor\":\"white\",\"ticks\":\"\",\"title\":{\"standoff\":15},\"zerolinecolor\":\"white\",\"zerolinewidth\":2}}}},                        {\"responsive\": true}                    ).then(function(){\n",
              "                            \n",
              "var gd = document.getElementById('049a2bb3-8f91-45f5-83c4-9f20c14586f0');\n",
              "var x = new MutationObserver(function (mutations, observer) {{\n",
              "        var display = window.getComputedStyle(gd).display;\n",
              "        if (!display || display === 'none') {{\n",
              "            console.log([gd, 'removed!']);\n",
              "            Plotly.purge(gd);\n",
              "            observer.disconnect();\n",
              "        }}\n",
              "}});\n",
              "\n",
              "// Listen for the removal of the full notebook cells\n",
              "var notebookContainer = gd.closest('#notebook-container');\n",
              "if (notebookContainer) {{\n",
              "    x.observe(notebookContainer, {childList: true});\n",
              "}}\n",
              "\n",
              "// Listen for the clearing of the current output cell\n",
              "var outputEl = gd.closest('.output');\n",
              "if (outputEl) {{\n",
              "    x.observe(outputEl, {childList: true});\n",
              "}}\n",
              "\n",
              "                        })                };                            </script>        </div>\n",
              "</body>\n",
              "</html>"
            ]
          },
          "metadata": {}
        }
      ]
    },
    {
      "cell_type": "code",
      "source": [
        "import plotly.graph_objects as go\n",
        "import numpy as np\n",
        "\n",
        "X = AT[0]\n",
        "Y = AT[1]\n",
        "Z = AT[2]\n",
        "# Helix equation\n",
        "# t = np.linspace(0, 10, 50)\n",
        "\n",
        "fig = go.Figure(data=[go.Scatter3d(x=X, y=Y, z=Z,\n",
        "                                   mode='markers')])\n",
        "fig.show()"
      ],
      "metadata": {
        "colab": {
          "base_uri": "https://localhost:8080/",
          "height": 542
        },
        "id": "O-ybpEIydyUu",
        "outputId": "85af3af8-1b23-49eb-d2e2-fb7690ebae92"
      },
      "execution_count": null,
      "outputs": [
        {
          "output_type": "display_data",
          "data": {
            "text/html": [
              "<html>\n",
              "<head><meta charset=\"utf-8\" /></head>\n",
              "<body>\n",
              "    <div>            <script src=\"https://cdnjs.cloudflare.com/ajax/libs/mathjax/2.7.5/MathJax.js?config=TeX-AMS-MML_SVG\"></script><script type=\"text/javascript\">if (window.MathJax) {MathJax.Hub.Config({SVG: {font: \"STIX-Web\"}});}</script>                <script type=\"text/javascript\">window.PlotlyConfig = {MathJaxConfig: 'local'};</script>\n",
              "        <script src=\"https://cdn.plot.ly/plotly-2.8.3.min.js\"></script>                <div id=\"cc61ad9d-7e7c-4f76-9ccb-dcae5c970b34\" class=\"plotly-graph-div\" style=\"height:525px; width:100%;\"></div>            <script type=\"text/javascript\">                                    window.PLOTLYENV=window.PLOTLYENV || {};                                    if (document.getElementById(\"cc61ad9d-7e7c-4f76-9ccb-dcae5c970b34\")) {                    Plotly.newPlot(                        \"cc61ad9d-7e7c-4f76-9ccb-dcae5c970b34\",                        [{\"mode\":\"markers\",\"x\":[-0.24730567936155348,-0.4608444958470491,-0.46187238212192605,-0.47806447725001433,-0.4869170679642061,-0.48765903815514733,-0.4894918023749067,-0.4965301744497331,-0.4971924942954813,-0.5111024171815464,-0.5134956065447112,-0.5192917236425629,-0.5230182590457755,-0.5379086221741941,-0.5546274339174664,-0.5546498487849536,-0.558554570566581,-0.5618335194492582,-0.5679201969116741,-0.5760242993350402,-0.5779998326065966,-0.5777859935101736,-0.5812916701721564,-0.5811721827128742,-0.5893642671027876,-0.5890894056470158,-0.5908791949708194,-0.5905830924748993,-0.5919152480727295,-0.5915201106486178,-0.5910534793078718,-0.5908029920919078,-0.5905888277999226,-0.5874967234420444,-0.5871022560079298,-0.5875364606616926,-0.5871914889210608,-0.5848786534419875,-0.5816326071715143,-0.5778508365002208,-0.5751681746733035,-0.5706767889705064,-0.5674461554661322,-0.5599282999615889,-0.5549437437041426,-0.5507330400275098,-0.5488954908524064,-0.5482699998482095,-0.5475990595403479,-0.5336657320141676,-0.5225649869928956,0.09773404128264634,-0.1706451189900562,-0.17162927577356543,-0.19640728805278332,-0.21237307019980678,-0.2135332230592668,-0.22366328547424133,-0.23235801611906837,-0.233544960844828,-0.2729606543894629,-0.2824261532975202,-0.28972303793841864,-0.2980329846950075,-0.32385486851776496,-0.3461874603111092,-0.3477327993475338,-0.36707296427564806,-0.3725653119360643,-0.38103528699257283,-0.39234724552472144,-0.3960021122641787,-0.3977454602511816,-0.4035853815467762,-0.4111016586664623,-0.4259055789650773,-0.4276873982292822,-0.4319422859273126,-0.4336871759107137,-0.4387373823546556,-0.4404527472986905,-0.4481801593746045,-0.44994491105197265,-0.45165426564513667,-0.45452676685997834,-0.4562650390585056,-0.45942028205340113,-0.4610924275906141,-0.4659731345035319,-0.46980289759514665,-0.46806980646092605,-0.4672898553589759,-0.46487447945624577,-0.4633408343187261,-0.45732447486287503,-0.4541349581303525,-0.4515646907471659,-0.45128880011317357,-0.4527946154675403,-0.45423199969269556,-0.4406361390891739,-0.43056158594741595],\"y\":[-0.7461003842572992,-0.7333458883630388,-0.7399716053305672,-0.7446366446454369,-0.7492894295192919,-0.7558830706409054,-0.7627938289111659,-0.767306209348634,-0.7738235129191083,-0.773332314838964,-0.7805065006167494,-0.7826644205447357,-0.7892395461438472,-0.7860973878702463,-0.7789290176081431,-0.7847994272932198,-0.7854029762101216,-0.7857739376149475,-0.7812113321236713,-0.7719219573342292,-0.7682639591165771,-0.7739536240790197,-0.7684281061370328,-0.7742208689639476,-0.7596436159058885,-0.7653433608886825,-0.7648014930468432,-0.7703581421592594,-0.7801326961821223,-0.7854229298961356,-0.7875100137250367,-0.7928241295862872,-0.7982006290433983,-0.7926787049496661,-0.7974424718064398,-0.8083981947978633,-0.8136162469645503,-0.8164975646583336,-0.8166010655986217,-0.8155435390644664,-0.8202071786675195,-0.8186951679956292,-0.8234244914386553,-0.8240598345755447,-0.8237988608756983,-0.8278362982035087,-0.8404067921224306,-0.8445737602329526,-0.8487641529960028,-0.8534257881531094,-0.8548751749485288,0.8992597890671357,0.9135816697612337,0.9124267099285442,0.9129211445065888,0.9125235394256835,0.9110235699311684,0.9064306458824036,0.9070584070012024,0.9054576040680662,0.896673127880842,0.8911320112803907,0.8936838641190766,0.8904867224112984,0.8936223471417711,0.9059586564626395,0.9035287971591245,0.8935608389209538,0.896767099887817,0.9061070567891608,0.9197177816352952,0.9265233564993798,0.9236592701785923,0.9332738192658734,0.9220500299869446,0.935657481223185,0.9324994201723575,0.9368933363038908,0.9337663541884789,0.9222034664180807,0.9189563751234865,0.8991981255194018,0.8957044292640888,0.8926291726391228,0.8845974558476088,0.8808217066652392,0.8659985115664202,0.8622780378255779,0.8386169530904956,0.816922657734098,0.8186747556420383,0.8138425843368039,0.8158355702490756,0.8112505459003376,0.8107003165034595,0.8115838532912866,0.8074066755798883,0.7897463805301459,0.7852391268089054,0.7807820532535436,0.775097399632547,0.7737775909814761],\"z\":[-0.30317143116858536,-0.44089297594766935,-0.43979153104509777,-0.4436031129438,-0.44324453611773074,-0.4419995069301617,-0.44099221131545924,-0.4365032543599817,-0.4352116736335391,-0.41907687001057853,-0.41703529745658424,-0.4056673836583247,-0.40014428703351446,-0.36546713286042115,-0.3172261519200589,-0.31608577228757445,-0.2982821334290145,-0.28062262109328295,-0.24447997465957072,-0.191295957793006,-0.16687137108471511,-0.1661422066395727,-0.12586337679109327,-0.12516293229374234,-0.024737971349133327,-0.02438315115528029,0.0115328945843104,0.011843026073371418,0.01874506659135769,0.019005534962536635,0.03733444993432302,0.037611085845616905,0.03792342037773437,0.07868893988368755,0.07880034927296148,0.08551006184669725,0.08563717023535719,0.09999516872216602,0.11562798033919978,0.13065579462575116,0.14149096565310634,0.15478721243344676,0.16422086125033036,0.1833946827134121,0.1930560110238477,0.20002886154466534,0.20246749759622146,0.2021566794471555,0.20183736308804545,0.21020418582393421,0.2143843903990971,-0.1298072961940072,-0.30662730359442536,-0.309168495790225,-0.32123513073070903,-0.32823259938165517,-0.33078337278509534,-0.33549993359779307,-0.3342797093014473,-0.33680135847586645,-0.32477431844260124,-0.3243717850987359,-0.3159226513895139,-0.3102023907033391,-0.26894673941101016,-0.21424547313322723,-0.2163111113450064,-0.19539245784763312,-0.17858502780863159,-0.14088080985929388,-0.0826126611909318,-0.06102059469913147,-0.06249403232471387,-0.019963397987497963,-0.018457809887103546,0.1034492538895216,0.10243669909518131,0.14388981474385584,0.1428789044145152,0.15599978400802086,0.1550519825709016,0.17988286077658844,0.17899830093769795,0.17821942772586127,0.2251004697098793,0.22435028961145742,0.23594684278878,0.235147008020146,0.252538139140431,0.269862261905748,0.2848760484191307,0.2972013009824019,0.310472891848933,0.32109894114857246,0.34193013496215596,0.3516951464986295,0.3593585776386154,0.3630066121247148,0.3624577132090593,0.36187899350549413,0.3709936811371789,0.3751973742033695],\"type\":\"scatter3d\"}],                        {\"template\":{\"data\":{\"bar\":[{\"error_x\":{\"color\":\"#2a3f5f\"},\"error_y\":{\"color\":\"#2a3f5f\"},\"marker\":{\"line\":{\"color\":\"#E5ECF6\",\"width\":0.5},\"pattern\":{\"fillmode\":\"overlay\",\"size\":10,\"solidity\":0.2}},\"type\":\"bar\"}],\"barpolar\":[{\"marker\":{\"line\":{\"color\":\"#E5ECF6\",\"width\":0.5},\"pattern\":{\"fillmode\":\"overlay\",\"size\":10,\"solidity\":0.2}},\"type\":\"barpolar\"}],\"carpet\":[{\"aaxis\":{\"endlinecolor\":\"#2a3f5f\",\"gridcolor\":\"white\",\"linecolor\":\"white\",\"minorgridcolor\":\"white\",\"startlinecolor\":\"#2a3f5f\"},\"baxis\":{\"endlinecolor\":\"#2a3f5f\",\"gridcolor\":\"white\",\"linecolor\":\"white\",\"minorgridcolor\":\"white\",\"startlinecolor\":\"#2a3f5f\"},\"type\":\"carpet\"}],\"choropleth\":[{\"colorbar\":{\"outlinewidth\":0,\"ticks\":\"\"},\"type\":\"choropleth\"}],\"contour\":[{\"colorbar\":{\"outlinewidth\":0,\"ticks\":\"\"},\"colorscale\":[[0.0,\"#0d0887\"],[0.1111111111111111,\"#46039f\"],[0.2222222222222222,\"#7201a8\"],[0.3333333333333333,\"#9c179e\"],[0.4444444444444444,\"#bd3786\"],[0.5555555555555556,\"#d8576b\"],[0.6666666666666666,\"#ed7953\"],[0.7777777777777778,\"#fb9f3a\"],[0.8888888888888888,\"#fdca26\"],[1.0,\"#f0f921\"]],\"type\":\"contour\"}],\"contourcarpet\":[{\"colorbar\":{\"outlinewidth\":0,\"ticks\":\"\"},\"type\":\"contourcarpet\"}],\"heatmap\":[{\"colorbar\":{\"outlinewidth\":0,\"ticks\":\"\"},\"colorscale\":[[0.0,\"#0d0887\"],[0.1111111111111111,\"#46039f\"],[0.2222222222222222,\"#7201a8\"],[0.3333333333333333,\"#9c179e\"],[0.4444444444444444,\"#bd3786\"],[0.5555555555555556,\"#d8576b\"],[0.6666666666666666,\"#ed7953\"],[0.7777777777777778,\"#fb9f3a\"],[0.8888888888888888,\"#fdca26\"],[1.0,\"#f0f921\"]],\"type\":\"heatmap\"}],\"heatmapgl\":[{\"colorbar\":{\"outlinewidth\":0,\"ticks\":\"\"},\"colorscale\":[[0.0,\"#0d0887\"],[0.1111111111111111,\"#46039f\"],[0.2222222222222222,\"#7201a8\"],[0.3333333333333333,\"#9c179e\"],[0.4444444444444444,\"#bd3786\"],[0.5555555555555556,\"#d8576b\"],[0.6666666666666666,\"#ed7953\"],[0.7777777777777778,\"#fb9f3a\"],[0.8888888888888888,\"#fdca26\"],[1.0,\"#f0f921\"]],\"type\":\"heatmapgl\"}],\"histogram\":[{\"marker\":{\"pattern\":{\"fillmode\":\"overlay\",\"size\":10,\"solidity\":0.2}},\"type\":\"histogram\"}],\"histogram2d\":[{\"colorbar\":{\"outlinewidth\":0,\"ticks\":\"\"},\"colorscale\":[[0.0,\"#0d0887\"],[0.1111111111111111,\"#46039f\"],[0.2222222222222222,\"#7201a8\"],[0.3333333333333333,\"#9c179e\"],[0.4444444444444444,\"#bd3786\"],[0.5555555555555556,\"#d8576b\"],[0.6666666666666666,\"#ed7953\"],[0.7777777777777778,\"#fb9f3a\"],[0.8888888888888888,\"#fdca26\"],[1.0,\"#f0f921\"]],\"type\":\"histogram2d\"}],\"histogram2dcontour\":[{\"colorbar\":{\"outlinewidth\":0,\"ticks\":\"\"},\"colorscale\":[[0.0,\"#0d0887\"],[0.1111111111111111,\"#46039f\"],[0.2222222222222222,\"#7201a8\"],[0.3333333333333333,\"#9c179e\"],[0.4444444444444444,\"#bd3786\"],[0.5555555555555556,\"#d8576b\"],[0.6666666666666666,\"#ed7953\"],[0.7777777777777778,\"#fb9f3a\"],[0.8888888888888888,\"#fdca26\"],[1.0,\"#f0f921\"]],\"type\":\"histogram2dcontour\"}],\"mesh3d\":[{\"colorbar\":{\"outlinewidth\":0,\"ticks\":\"\"},\"type\":\"mesh3d\"}],\"parcoords\":[{\"line\":{\"colorbar\":{\"outlinewidth\":0,\"ticks\":\"\"}},\"type\":\"parcoords\"}],\"pie\":[{\"automargin\":true,\"type\":\"pie\"}],\"scatter\":[{\"marker\":{\"colorbar\":{\"outlinewidth\":0,\"ticks\":\"\"}},\"type\":\"scatter\"}],\"scatter3d\":[{\"line\":{\"colorbar\":{\"outlinewidth\":0,\"ticks\":\"\"}},\"marker\":{\"colorbar\":{\"outlinewidth\":0,\"ticks\":\"\"}},\"type\":\"scatter3d\"}],\"scattercarpet\":[{\"marker\":{\"colorbar\":{\"outlinewidth\":0,\"ticks\":\"\"}},\"type\":\"scattercarpet\"}],\"scattergeo\":[{\"marker\":{\"colorbar\":{\"outlinewidth\":0,\"ticks\":\"\"}},\"type\":\"scattergeo\"}],\"scattergl\":[{\"marker\":{\"colorbar\":{\"outlinewidth\":0,\"ticks\":\"\"}},\"type\":\"scattergl\"}],\"scattermapbox\":[{\"marker\":{\"colorbar\":{\"outlinewidth\":0,\"ticks\":\"\"}},\"type\":\"scattermapbox\"}],\"scatterpolar\":[{\"marker\":{\"colorbar\":{\"outlinewidth\":0,\"ticks\":\"\"}},\"type\":\"scatterpolar\"}],\"scatterpolargl\":[{\"marker\":{\"colorbar\":{\"outlinewidth\":0,\"ticks\":\"\"}},\"type\":\"scatterpolargl\"}],\"scatterternary\":[{\"marker\":{\"colorbar\":{\"outlinewidth\":0,\"ticks\":\"\"}},\"type\":\"scatterternary\"}],\"surface\":[{\"colorbar\":{\"outlinewidth\":0,\"ticks\":\"\"},\"colorscale\":[[0.0,\"#0d0887\"],[0.1111111111111111,\"#46039f\"],[0.2222222222222222,\"#7201a8\"],[0.3333333333333333,\"#9c179e\"],[0.4444444444444444,\"#bd3786\"],[0.5555555555555556,\"#d8576b\"],[0.6666666666666666,\"#ed7953\"],[0.7777777777777778,\"#fb9f3a\"],[0.8888888888888888,\"#fdca26\"],[1.0,\"#f0f921\"]],\"type\":\"surface\"}],\"table\":[{\"cells\":{\"fill\":{\"color\":\"#EBF0F8\"},\"line\":{\"color\":\"white\"}},\"header\":{\"fill\":{\"color\":\"#C8D4E3\"},\"line\":{\"color\":\"white\"}},\"type\":\"table\"}]},\"layout\":{\"annotationdefaults\":{\"arrowcolor\":\"#2a3f5f\",\"arrowhead\":0,\"arrowwidth\":1},\"autotypenumbers\":\"strict\",\"coloraxis\":{\"colorbar\":{\"outlinewidth\":0,\"ticks\":\"\"}},\"colorscale\":{\"diverging\":[[0,\"#8e0152\"],[0.1,\"#c51b7d\"],[0.2,\"#de77ae\"],[0.3,\"#f1b6da\"],[0.4,\"#fde0ef\"],[0.5,\"#f7f7f7\"],[0.6,\"#e6f5d0\"],[0.7,\"#b8e186\"],[0.8,\"#7fbc41\"],[0.9,\"#4d9221\"],[1,\"#276419\"]],\"sequential\":[[0.0,\"#0d0887\"],[0.1111111111111111,\"#46039f\"],[0.2222222222222222,\"#7201a8\"],[0.3333333333333333,\"#9c179e\"],[0.4444444444444444,\"#bd3786\"],[0.5555555555555556,\"#d8576b\"],[0.6666666666666666,\"#ed7953\"],[0.7777777777777778,\"#fb9f3a\"],[0.8888888888888888,\"#fdca26\"],[1.0,\"#f0f921\"]],\"sequentialminus\":[[0.0,\"#0d0887\"],[0.1111111111111111,\"#46039f\"],[0.2222222222222222,\"#7201a8\"],[0.3333333333333333,\"#9c179e\"],[0.4444444444444444,\"#bd3786\"],[0.5555555555555556,\"#d8576b\"],[0.6666666666666666,\"#ed7953\"],[0.7777777777777778,\"#fb9f3a\"],[0.8888888888888888,\"#fdca26\"],[1.0,\"#f0f921\"]]},\"colorway\":[\"#636efa\",\"#EF553B\",\"#00cc96\",\"#ab63fa\",\"#FFA15A\",\"#19d3f3\",\"#FF6692\",\"#B6E880\",\"#FF97FF\",\"#FECB52\"],\"font\":{\"color\":\"#2a3f5f\"},\"geo\":{\"bgcolor\":\"white\",\"lakecolor\":\"white\",\"landcolor\":\"#E5ECF6\",\"showlakes\":true,\"showland\":true,\"subunitcolor\":\"white\"},\"hoverlabel\":{\"align\":\"left\"},\"hovermode\":\"closest\",\"mapbox\":{\"style\":\"light\"},\"paper_bgcolor\":\"white\",\"plot_bgcolor\":\"#E5ECF6\",\"polar\":{\"angularaxis\":{\"gridcolor\":\"white\",\"linecolor\":\"white\",\"ticks\":\"\"},\"bgcolor\":\"#E5ECF6\",\"radialaxis\":{\"gridcolor\":\"white\",\"linecolor\":\"white\",\"ticks\":\"\"}},\"scene\":{\"xaxis\":{\"backgroundcolor\":\"#E5ECF6\",\"gridcolor\":\"white\",\"gridwidth\":2,\"linecolor\":\"white\",\"showbackground\":true,\"ticks\":\"\",\"zerolinecolor\":\"white\"},\"yaxis\":{\"backgroundcolor\":\"#E5ECF6\",\"gridcolor\":\"white\",\"gridwidth\":2,\"linecolor\":\"white\",\"showbackground\":true,\"ticks\":\"\",\"zerolinecolor\":\"white\"},\"zaxis\":{\"backgroundcolor\":\"#E5ECF6\",\"gridcolor\":\"white\",\"gridwidth\":2,\"linecolor\":\"white\",\"showbackground\":true,\"ticks\":\"\",\"zerolinecolor\":\"white\"}},\"shapedefaults\":{\"line\":{\"color\":\"#2a3f5f\"}},\"ternary\":{\"aaxis\":{\"gridcolor\":\"white\",\"linecolor\":\"white\",\"ticks\":\"\"},\"baxis\":{\"gridcolor\":\"white\",\"linecolor\":\"white\",\"ticks\":\"\"},\"bgcolor\":\"#E5ECF6\",\"caxis\":{\"gridcolor\":\"white\",\"linecolor\":\"white\",\"ticks\":\"\"}},\"title\":{\"x\":0.05},\"xaxis\":{\"automargin\":true,\"gridcolor\":\"white\",\"linecolor\":\"white\",\"ticks\":\"\",\"title\":{\"standoff\":15},\"zerolinecolor\":\"white\",\"zerolinewidth\":2},\"yaxis\":{\"automargin\":true,\"gridcolor\":\"white\",\"linecolor\":\"white\",\"ticks\":\"\",\"title\":{\"standoff\":15},\"zerolinecolor\":\"white\",\"zerolinewidth\":2}}}},                        {\"responsive\": true}                    ).then(function(){\n",
              "                            \n",
              "var gd = document.getElementById('cc61ad9d-7e7c-4f76-9ccb-dcae5c970b34');\n",
              "var x = new MutationObserver(function (mutations, observer) {{\n",
              "        var display = window.getComputedStyle(gd).display;\n",
              "        if (!display || display === 'none') {{\n",
              "            console.log([gd, 'removed!']);\n",
              "            Plotly.purge(gd);\n",
              "            observer.disconnect();\n",
              "        }}\n",
              "}});\n",
              "\n",
              "// Listen for the removal of the full notebook cells\n",
              "var notebookContainer = gd.closest('#notebook-container');\n",
              "if (notebookContainer) {{\n",
              "    x.observe(notebookContainer, {childList: true});\n",
              "}}\n",
              "\n",
              "// Listen for the clearing of the current output cell\n",
              "var outputEl = gd.closest('.output');\n",
              "if (outputEl) {{\n",
              "    x.observe(outputEl, {childList: true});\n",
              "}}\n",
              "\n",
              "                        })                };                            </script>        </div>\n",
              "</body>\n",
              "</html>"
            ]
          },
          "metadata": {}
        }
      ]
    },
    {
      "cell_type": "markdown",
      "source": [
        "### Write-up (20 pt)\n",
        "\n",
        "\n",
        "*   Plot the predicted 3D locations of the tracked points for 3 different viewpoints. Choose the viewpoints so that the 3D structure is clearly visible.\n",
        "*   Plot the predicted 3D path of the cameras. The camera position for each frame is given by the cross product a_k = a_i x a_j. Normalize a_k to be unit length for consistent results. Give 3 plots, one for each dimension of a_k \n",
        "<!-- We provide the function plotSfM.m for visualizing the recovered 3D shape and camera positions in each frame. -->\n"
      ],
      "metadata": {
        "id": "wZgGQcmAJhVQ"
      }
    },
    {
      "cell_type": "markdown",
      "source": [
        "### Hint\n",
        "\n",
        "\n",
        "*   Do not use existing structure from motion code, such as found in OpenCV.\n",
        "*   The provided file tracks.mat contains the tracked keypoints over 51 frames.viewpoints. \n",
        "*   Reference: \n",
        "    - Tomasi and Kanade. Shape and Motion from Image Streams under Orthography: a Factorization Method. 1992"
      ],
      "metadata": {
        "id": "vtJ465J8KYid"
      }
    }
  ]
}